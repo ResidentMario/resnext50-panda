{
 "cells": [
  {
   "cell_type": "markdown",
   "metadata": {},
   "source": [
    "## Download model"
   ]
  },
  {
   "cell_type": "code",
   "execution_count": 4,
   "metadata": {},
   "outputs": [
    {
     "name": "stdout",
     "output_type": "stream",
     "text": [
      "\u001b[0m1007177… Dec 11 23:49   model_1.pth\n",
      "\u001b[0m1007177… Dec 11 23:49   model_10.pth\n",
      "\u001b[0m1007177… Dec 11 23:49   model_11.pth\n",
      "\u001b[0m1007177… Dec 11 23:49   model_12.pth\n",
      "\u001b[0m1007177… Dec 11 23:49   model_13.pth\n",
      "\u001b[0m1007177… Dec 11 23:49   model_14.pth\n",
      "\u001b[0m1007177… Dec 11 23:49   model_15.pth\n",
      "\u001b[0m1007177… Dec 11 23:49   model_16.pth\n",
      "\u001b[0m1007177… Dec 11 23:49   model_2.pth\n",
      "\u001b[0m1007177… Dec 11 23:49   model_3.pth\n",
      "\u001b[0m1007177… Dec 11 23:49   model_4.pth\n",
      "\u001b[0m1007177… Dec 11 23:49   model_5.pth\n",
      "\u001b[0m1007177… Dec 11 23:49   model_6.pth\n",
      "\u001b[0m1007177… Dec 11 23:49   model_7.pth\n",
      "\u001b[0m1007177… Dec 11 23:49   model_8.pth\n",
      "\u001b[0m1007177… Dec 11 23:49   model_9.pth\n",
      "\u001b[0m\u001b[0m"
     ]
    }
   ],
   "source": [
    "!spell ls runs/552/checkpoints/"
   ]
  },
  {
   "cell_type": "code",
   "execution_count": 9,
   "metadata": {},
   "outputs": [
    {
     "name": "stdout",
     "output_type": "stream",
     "text": [
      "\u001b[0m\u001b[K\u001b[0m\u001b[?25h\u001b[0m\u001b[32m✔\u001b[39m Copied 1 files.m\u001b[K\u001b[0m\n",
      "\u001b[0m\u001b[K\u001b[0m\u001b[?25h\u001b[0m\u001b[0m"
     ]
    }
   ],
   "source": [
    "!spell cp runs/552/checkpoints/model_16.pth /spell/models/checkpoints/"
   ]
  },
  {
   "cell_type": "markdown",
   "metadata": {},
   "source": [
    "## Get model and test dataloader"
   ]
  },
  {
   "cell_type": "code",
   "execution_count": 11,
   "metadata": {},
   "outputs": [],
   "source": [
    "# !pip install fastai"
   ]
  },
  {
   "cell_type": "code",
   "execution_count": 1,
   "metadata": {},
   "outputs": [],
   "source": [
    "import torch\n",
    "import torch.nn as nn\n",
    "import torch.nn.functional as F\n",
    "from torch import optim\n",
    "from torch.utils.tensorboard import SummaryWriter\n",
    "\n",
    "from fastai.layers import AdaptiveConcatPool2d, Flatten\n",
    "from torchvision import transforms\n",
    "from torch.utils.data import Dataset, DataLoader\n",
    "from torchvision import transforms\n",
    "\n",
    "from tqdm import tqdm\n",
    "import numpy as np\n",
    "import pandas as pd\n",
    "from PIL import Image\n",
    "\n",
    "import os\n",
    "import io\n",
    "import zipfile\n",
    "\n",
    "\n",
    "LABELS = '/spell/datasets/working/train.csv'\n",
    "OUT_TRAIN = '/spell/datasets/working/train.zip'\n",
    "OUT_MASKS = '/spell/datasets/working/masks.zip'\n",
    "NUM_EPOCHS = 16\n",
    "BATCH_SIZE = 16\n",
    "TRAIN_TEST_SPLIT = 0.8\n",
    "\n",
    "\n",
    "##############\n",
    "# DATALOADER #\n",
    "##############\n",
    "\n",
    "def get_train_test_split():\n",
    "    # NOTE(aleksey): the DataFrame contains 100 entries which are mysteriously absent from\n",
    "    # the train set. Here we filter these out here.\n",
    "    with zipfile.ZipFile(OUT_TRAIN) as zf_train:\n",
    "        files = [item.filename for item in zf_train.infolist()]\n",
    "        files = [f[:32] for f in files]\n",
    "        files = set(files)\n",
    "\n",
    "        df = pd.read_csv(LABELS).set_index('image_id')\n",
    "        df = df.loc[files]\n",
    "    df = df.reset_index()\n",
    "    train_df = df.sample(round(len(df) * TRAIN_TEST_SPLIT))\n",
    "    test_df = df.loc[df.index.difference(train_df.index)]\n",
    "    return train_df, test_df\n",
    "\n",
    "\n",
    "class PandaDataset(Dataset):\n",
    "    def __init__(self, df):\n",
    "        self.df = df\n",
    "        self.image_zf = zipfile.ZipFile(OUT_TRAIN)\n",
    "        self.mask_zf = zipfile.ZipFile(OUT_MASKS)\n",
    "\n",
    "    def __len__(self):\n",
    "        return len(self.df)\n",
    "    \n",
    "    def __getitem__(self, idx):\n",
    "        X_id = self.df.iloc[idx, 0]\n",
    "        # The target variable is the isup_score, which is a value 0 through 5.\n",
    "        # The moodel predicts six values per class (a la softmax).\n",
    "        y = torch.tensor(self.df.iloc[idx].isup_grade)\n",
    "        tile_img_tensors, tile_mask_tensors = [], []\n",
    "\n",
    "        for tile_id in range(0, 16):\n",
    "            fd = self.image_zf.open(f\"{X_id}_{tile_id}.png\")\n",
    "            tile_img_bytes = fd.read()\n",
    "            fd.close()\n",
    "            \n",
    "            tile_img = Image.open(io.BytesIO(tile_img_bytes))\n",
    "            tile_img_arr = np.array(tile_img)\n",
    "            tile_img_arr.astype(np.float)\n",
    "            \n",
    "            fd = self.mask_zf.open(f\"{X_id}_{tile_id}.png\")\n",
    "            tile_mask_bytes = fd.read()\n",
    "            fd.close()\n",
    "            \n",
    "            tile_mask = Image.open(io.BytesIO(tile_mask_bytes))\n",
    "            tile_mask_arr = np.array(tile_mask)\n",
    "            \n",
    "            tile_img_tensor = torch.tensor(tile_img_arr, dtype=torch.float).permute(2, 0, 1)\n",
    "            tile_img_tensor = transforms.Normalize(\n",
    "                mean=tile_img_tensor_means, std=tile_img_tensor_stds\n",
    "            )(tile_img_tensor)\n",
    "\n",
    "            tile_mask_tensor = torch.tensor(tile_mask_arr, dtype=torch.float)[np.newaxis, ...]\n",
    "            tile_mask_tensor = transforms.Normalize(\n",
    "                mean=(tile_mask_tensor_mean), std=(tile_mask_tensor_std)\n",
    "            )(tile_mask_tensor)\n",
    "            \n",
    "            tile_img_tensors.append(tile_img_tensor)\n",
    "            tile_mask_tensors.append(tile_mask_tensor)\n",
    "        \n",
    "        return torch.cat(tile_img_tensors, dim=1), torch.cat(tile_img_tensors, dim=1), y\n",
    "\n",
    "\n",
    "#########\n",
    "# MODEL #\n",
    "#########\n",
    "\n",
    "# NOTE(aleksey): these magic values are used by torchvision.transforms.Normalize.\n",
    "def estimate_mean_and_std(zf_path, n_samples=1000):\n",
    "    def calculate_mean_and_std(img_arr):\n",
    "        return np.mean(img_arr, axis=(0, 1)), np.std(img_arr, axis=(0, 1))\n",
    "\n",
    "    all_per_channel_means = []\n",
    "    all_per_channel_stds = []\n",
    "    \n",
    "    with zipfile.ZipFile(zf_path) as zf:\n",
    "        for img_info in np.random.choice(zf.infolist(), n_samples):\n",
    "            img_fn = img_info.filename\n",
    "            with zf.open(img_fn) as fp:\n",
    "                img = Image.open(io.BytesIO(fp.read()))\n",
    "                img_arr = np.array(img)\n",
    "                per_channel_means, per_channel_stds = calculate_mean_and_std(img_arr)\n",
    "                all_per_channel_means.append(per_channel_means)\n",
    "                all_per_channel_stds.append(per_channel_stds)\n",
    "    \n",
    "    estimated_channelwide_means = np.stack(all_per_channel_means).mean(axis=0)\n",
    "    estimated_channelwide_stds = np.stack(all_per_channel_stds).mean(axis=0)\n",
    "    return estimated_channelwide_means, estimated_channelwide_stds\n",
    "\n",
    "tile_img_tensor_means, tile_img_tensor_stds = estimate_mean_and_std(OUT_TRAIN)\n",
    "tile_mask_tensor_mean, tile_mask_tensor_std = estimate_mean_and_std(OUT_MASKS)\n",
    "\n",
    "# NOTE(aleksey): the model uses a Mish() module as part of its architecture. In the original\n",
    "# Kaggle kernel this model is sourced from the mish_activation package. I could not determine\n",
    "# the origin of this module, but inspecting the module in a Kaggle notebook (via import\n",
    "# mish_activation; mish_activation??) reveals that the activation definition is a simple flat\n",
    "# file. I've gone ahead and copied that to here.\n",
    "class MishFunction(torch.autograd.Function):\n",
    "    @staticmethod\n",
    "    def forward(ctx, x):\n",
    "        ctx.save_for_backward(x)\n",
    "        return x * torch.tanh(F.softplus(x))   # x * tanh(ln(1 + exp(x)))\n",
    "\n",
    "    @staticmethod\n",
    "    def backward(ctx, grad_output):\n",
    "        x = ctx.saved_variables[0]\n",
    "        sigmoid = torch.sigmoid(x)\n",
    "        tanh_sp = torch.tanh(F.softplus(x)) \n",
    "        return grad_output * (tanh_sp + x * sigmoid * (1 - tanh_sp * tanh_sp))\n",
    "\n",
    "class Mish(nn.Module):\n",
    "    def forward(self, x):\n",
    "        return MishFunction.apply(x)\n",
    "\n",
    "def to_Mish(model):\n",
    "    for child_name, child in model.named_children():\n",
    "        if isinstance(child, nn.ReLU):\n",
    "            setattr(model, child_name, Mish())\n",
    "        else:\n",
    "            to_Mish(child)\n",
    "\n",
    "\n",
    "class PandaModel(nn.Module):\n",
    "    # NOTE(aleksey): n=6 because the value we are trying to predict is an ordinal categorical\n",
    "    # with 6 possible values.\n",
    "    def __init__(self, arch='resnext50_32x4d_ssl', n=6, pre=True):\n",
    "        super().__init__()\n",
    "        m = torch.hub.load('facebookresearch/semi-supervised-ImageNet1K-models', arch)\n",
    "        self.enc = nn.Sequential(*list(m.children())[:-2])\n",
    "        nc = list(m.children())[-1].in_features\n",
    "        self.head = nn.Sequential(\n",
    "            # TODO: replace these fastaia layers with torch ones\n",
    "            AdaptiveConcatPool2d(),\n",
    "            Flatten(),\n",
    "            nn.Linear(2 * nc, 512),\n",
    "            Mish(),\n",
    "            nn.BatchNorm1d(512),\n",
    "            nn.Dropout(0.5),\n",
    "            nn.Linear(512, n)\n",
    "        )\n",
    "        \n",
    "    def forward(self, *x):\n",
    "        shape = x[0].shape\n",
    "        n = len(x)\n",
    "        x = torch.stack(x, 1).view(-1, shape[1], shape[2], shape[3])\n",
    "        \n",
    "        #x: bs*N x 3 x 128 x 128\n",
    "        x = self.enc(x)\n",
    "        \n",
    "        #x: bs*N x C x 4 x 4\n",
    "        shape = x.shape\n",
    "        #concatenate the output for tiles into a single map\n",
    "        x = (x.view(-1, n, shape[1], shape[2], shape[3])\n",
    "             .permute(0, 2, 1, 3, 4)\n",
    "             .contiguous()\n",
    "             .view(-1, shape[1], shape[2] * n, shape[3]))\n",
    "\n",
    "        #x: bs x C x N*4 x 4\n",
    "        x = self.head(x)\n",
    "        #x: bs x n\n",
    "        return x"
   ]
  },
  {
   "cell_type": "code",
   "execution_count": 5,
   "metadata": {},
   "outputs": [],
   "source": [
    "_, test_df = get_train_test_split()\n",
    "test_dataset = PandaDataset(test_df)\n",
    "test_dataloader = DataLoader(test_dataset, batch_size=BATCH_SIZE)"
   ]
  },
  {
   "cell_type": "code",
   "execution_count": 2,
   "metadata": {},
   "outputs": [],
   "source": [
    "from torch.nn.utils import prune\n",
    "import numpy as np\n",
    "\n",
    "def get_model():\n",
    "    \"\"\"\n",
    "    Loads the model from checkpoint.\n",
    "    \"\"\"\n",
    "    model = PandaModel()\n",
    "    model.load_state_dict(torch.load(\"/spell/models/checkpoints/model_16.pth\"))\n",
    "    model.cuda()\n",
    "    model.eval()\n",
    "    return model\n",
    "\n",
    "def prune_model(model, layer_type, proportion):\n",
    "    \"\"\"\n",
    "    Prunes the model.\n",
    "    \"\"\"\n",
    "    # NOTE(aleksey): modules in a Sequential module have names like 4.1.conv3.\n",
    "    for name, module in model.enc.named_modules():\n",
    "        if isinstance(module, layer_type):\n",
    "            prune.l1_unstructured(module, 'weight', proportion)\n",
    "            prune.remove(module, 'weight')\n",
    "    return model\n",
    "\n",
    "def get_model_val_loss(model):\n",
    "    \"\"\"\n",
    "    Returns the mean validation loss for the input model.\n",
    "    \"\"\"\n",
    "    criterion = nn.CrossEntropyLoss()\n",
    "    losses = []\n",
    "    \n",
    "    with torch.no_grad():\n",
    "        for i, (X, _, y) in enumerate(iter(test_dataloader)):\n",
    "            X = X.cuda()\n",
    "            y = y.cuda()\n",
    "            \n",
    "            X_pred = model(X)\n",
    "            loss = criterion(X_pred, y)\n",
    "            curr_loss = loss.item()\n",
    "            losses.append(curr_loss)\n",
    "\n",
    "    return np.mean(losses)"
   ]
  },
  {
   "cell_type": "markdown",
   "metadata": {},
   "source": [
    "## Pruning inference"
   ]
  },
  {
   "cell_type": "code",
   "execution_count": 38,
   "metadata": {},
   "outputs": [
    {
     "name": "stderr",
     "output_type": "stream",
     "text": [
      "Using cache found in /root/.cache/torch/hub/facebookresearch_semi-supervised-ImageNet1K-models_master\n"
     ]
    }
   ],
   "source": [
    "model = get_model()"
   ]
  },
  {
   "cell_type": "code",
   "execution_count": 39,
   "metadata": {},
   "outputs": [
    {
     "name": "stdout",
     "output_type": "stream",
     "text": [
      "CPU times: user 2min 21s, sys: 6.66 s, total: 2min 27s\n",
      "Wall time: 1min 32s\n"
     ]
    },
    {
     "data": {
      "text/plain": [
       "1.2234920516158596"
      ]
     },
     "execution_count": 39,
     "metadata": {},
     "output_type": "execute_result"
    }
   ],
   "source": [
    "%time get_model_val_loss(model)"
   ]
  },
  {
   "cell_type": "code",
   "execution_count": 40,
   "metadata": {},
   "outputs": [
    {
     "name": "stderr",
     "output_type": "stream",
     "text": [
      "Using cache found in /root/.cache/torch/hub/facebookresearch_semi-supervised-ImageNet1K-models_master\n"
     ]
    }
   ],
   "source": [
    "model = get_model()\n",
    "model = prune_model(model, nn.Conv2d, 0.1)"
   ]
  },
  {
   "cell_type": "code",
   "execution_count": 41,
   "metadata": {},
   "outputs": [
    {
     "name": "stdout",
     "output_type": "stream",
     "text": [
      "CPU times: user 2min 21s, sys: 6.45 s, total: 2min 28s\n",
      "Wall time: 1min 33s\n"
     ]
    },
    {
     "data": {
      "text/plain": [
       "1.2327416051517834"
      ]
     },
     "execution_count": 41,
     "metadata": {},
     "output_type": "execute_result"
    }
   ],
   "source": [
    "%time get_model_val_loss(model)"
   ]
  },
  {
   "cell_type": "code",
   "execution_count": 42,
   "metadata": {},
   "outputs": [
    {
     "name": "stderr",
     "output_type": "stream",
     "text": [
      "Using cache found in /root/.cache/torch/hub/facebookresearch_semi-supervised-ImageNet1K-models_master\n"
     ]
    }
   ],
   "source": [
    "model = get_model()\n",
    "model = prune_model(model, nn.Conv2d, 0.2)"
   ]
  },
  {
   "cell_type": "code",
   "execution_count": 43,
   "metadata": {},
   "outputs": [
    {
     "name": "stdout",
     "output_type": "stream",
     "text": [
      "CPU times: user 2min 21s, sys: 6.66 s, total: 2min 28s\n",
      "Wall time: 1min 33s\n"
     ]
    },
    {
     "data": {
      "text/plain": [
       "1.25750197944316"
      ]
     },
     "execution_count": 43,
     "metadata": {},
     "output_type": "execute_result"
    }
   ],
   "source": [
    "%time get_model_val_loss(model)"
   ]
  },
  {
   "cell_type": "code",
   "execution_count": 44,
   "metadata": {},
   "outputs": [
    {
     "name": "stderr",
     "output_type": "stream",
     "text": [
      "Using cache found in /root/.cache/torch/hub/facebookresearch_semi-supervised-ImageNet1K-models_master\n"
     ]
    }
   ],
   "source": [
    "model = get_model()\n",
    "model = prune_model(model, nn.Conv2d, 0.3)"
   ]
  },
  {
   "cell_type": "code",
   "execution_count": 45,
   "metadata": {},
   "outputs": [
    {
     "name": "stdout",
     "output_type": "stream",
     "text": [
      "CPU times: user 2min 22s, sys: 5.3 s, total: 2min 27s\n",
      "Wall time: 1min 32s\n"
     ]
    },
    {
     "data": {
      "text/plain": [
       "1.195499126658295"
      ]
     },
     "execution_count": 45,
     "metadata": {},
     "output_type": "execute_result"
    }
   ],
   "source": [
    "%time get_model_val_loss(model)"
   ]
  },
  {
   "cell_type": "code",
   "execution_count": 46,
   "metadata": {},
   "outputs": [
    {
     "name": "stderr",
     "output_type": "stream",
     "text": [
      "Using cache found in /root/.cache/torch/hub/facebookresearch_semi-supervised-ImageNet1K-models_master\n"
     ]
    }
   ],
   "source": [
    "model = get_model()\n",
    "model = prune_model(model, nn.Conv2d, 0.4)"
   ]
  },
  {
   "cell_type": "code",
   "execution_count": 47,
   "metadata": {},
   "outputs": [
    {
     "name": "stdout",
     "output_type": "stream",
     "text": [
      "CPU times: user 2min 21s, sys: 5.04 s, total: 2min 26s\n",
      "Wall time: 1min 32s\n"
     ]
    },
    {
     "data": {
      "text/plain": [
       "1.2042179626948906"
      ]
     },
     "execution_count": 47,
     "metadata": {},
     "output_type": "execute_result"
    }
   ],
   "source": [
    "%time get_model_val_loss(model)"
   ]
  },
  {
   "cell_type": "code",
   "execution_count": 48,
   "metadata": {},
   "outputs": [
    {
     "name": "stderr",
     "output_type": "stream",
     "text": [
      "Using cache found in /root/.cache/torch/hub/facebookresearch_semi-supervised-ImageNet1K-models_master\n"
     ]
    }
   ],
   "source": [
    "model = get_model()\n",
    "model = prune_model(model, nn.Conv2d, 0.5)"
   ]
  },
  {
   "cell_type": "code",
   "execution_count": 49,
   "metadata": {},
   "outputs": [
    {
     "name": "stdout",
     "output_type": "stream",
     "text": [
      "CPU times: user 2min 22s, sys: 5.17 s, total: 2min 27s\n",
      "Wall time: 1min 32s\n"
     ]
    },
    {
     "data": {
      "text/plain": [
       "1.2962080136393055"
      ]
     },
     "execution_count": 49,
     "metadata": {},
     "output_type": "execute_result"
    }
   ],
   "source": [
    "%time get_model_val_loss(model)"
   ]
  },
  {
   "cell_type": "code",
   "execution_count": 50,
   "metadata": {},
   "outputs": [
    {
     "name": "stderr",
     "output_type": "stream",
     "text": [
      "Using cache found in /root/.cache/torch/hub/facebookresearch_semi-supervised-ImageNet1K-models_master\n"
     ]
    }
   ],
   "source": [
    "model = get_model()\n",
    "model = prune_model(model, nn.Conv2d, 0.6)"
   ]
  },
  {
   "cell_type": "code",
   "execution_count": 51,
   "metadata": {},
   "outputs": [
    {
     "name": "stdout",
     "output_type": "stream",
     "text": [
      "CPU times: user 2min 21s, sys: 5.24 s, total: 2min 26s\n",
      "Wall time: 1min 31s\n"
     ]
    },
    {
     "data": {
      "text/plain": [
       "2.3007163351232354"
      ]
     },
     "execution_count": 51,
     "metadata": {},
     "output_type": "execute_result"
    }
   ],
   "source": [
    "%time get_model_val_loss(model)"
   ]
  },
  {
   "cell_type": "code",
   "execution_count": 52,
   "metadata": {},
   "outputs": [
    {
     "name": "stderr",
     "output_type": "stream",
     "text": [
      "Using cache found in /root/.cache/torch/hub/facebookresearch_semi-supervised-ImageNet1K-models_master\n"
     ]
    }
   ],
   "source": [
    "model = get_model()\n",
    "model = prune_model(model, nn.Conv2d, 0.7)"
   ]
  },
  {
   "cell_type": "code",
   "execution_count": 53,
   "metadata": {},
   "outputs": [
    {
     "name": "stdout",
     "output_type": "stream",
     "text": [
      "CPU times: user 2min 20s, sys: 5.22 s, total: 2min 25s\n",
      "Wall time: 1min 31s\n"
     ]
    },
    {
     "data": {
      "text/plain": [
       "3.7908382162903296"
      ]
     },
     "execution_count": 53,
     "metadata": {},
     "output_type": "execute_result"
    }
   ],
   "source": [
    "%time get_model_val_loss(model)"
   ]
  },
  {
   "cell_type": "code",
   "execution_count": 54,
   "metadata": {},
   "outputs": [
    {
     "name": "stderr",
     "output_type": "stream",
     "text": [
      "Using cache found in /root/.cache/torch/hub/facebookresearch_semi-supervised-ImageNet1K-models_master\n"
     ]
    }
   ],
   "source": [
    "model = get_model()\n",
    "model = prune_model(model, nn.Conv2d, 0.8)"
   ]
  },
  {
   "cell_type": "code",
   "execution_count": 55,
   "metadata": {},
   "outputs": [
    {
     "name": "stdout",
     "output_type": "stream",
     "text": [
      "CPU times: user 2min 20s, sys: 5.08 s, total: 2min 25s\n",
      "Wall time: 1min 31s\n"
     ]
    },
    {
     "data": {
      "text/plain": [
       "3.7908382162903296"
      ]
     },
     "execution_count": 55,
     "metadata": {},
     "output_type": "execute_result"
    }
   ],
   "source": [
    "%time get_model_val_loss(model)"
   ]
  },
  {
   "cell_type": "markdown",
   "metadata": {},
   "source": [
    "As you can see, pruning does not immediately reduce model accuracy (we can get reasonably far before we start to see the model diverge), but it doesn't reduce inference time either."
   ]
  },
  {
   "cell_type": "code",
   "execution_count": 7,
   "metadata": {},
   "outputs": [],
   "source": [
    "def test_pruning_jobs(get_fn, prune_fn, eval_fn):\n",
    "    losses = []\n",
    "    \n",
    "    print(f\"Evaluating model with θ=0 pruning.\")\n",
    "    model = get_fn()\n",
    "    unpruned_loss = eval_fn(model)\n",
    "    losses.append((0, unpruned_loss))\n",
    "    \n",
    "    for i in range(1, 18):\n",
    "        p = i * 0.05\n",
    "        print(f\"Evaluating model with θ={p} pruning.\")\n",
    "        model = get_fn()\n",
    "        pruned_model = prune_fn(model, p)\n",
    "        loss = eval_fn(pruned_model)\n",
    "        losses.append((p, loss))\n",
    "    \n",
    "    return losses\n",
    "\n",
    "prune_fn = lambda model, proportion: prune_model(model, nn.Conv2d, proportion)"
   ]
  },
  {
   "cell_type": "code",
   "execution_count": 8,
   "metadata": {},
   "outputs": [
    {
     "name": "stdout",
     "output_type": "stream",
     "text": [
      "Evaluating model with θ=0 pruning.\n"
     ]
    },
    {
     "name": "stderr",
     "output_type": "stream",
     "text": [
      "Using cache found in /root/.cache/torch/hub/facebookresearch_semi-supervised-ImageNet1K-models_master\n"
     ]
    },
    {
     "name": "stdout",
     "output_type": "stream",
     "text": [
      "Evaluating model with θ=0.05 pruning.\n"
     ]
    },
    {
     "name": "stderr",
     "output_type": "stream",
     "text": [
      "Using cache found in /root/.cache/torch/hub/facebookresearch_semi-supervised-ImageNet1K-models_master\n"
     ]
    },
    {
     "name": "stdout",
     "output_type": "stream",
     "text": [
      "Evaluating model with θ=0.1 pruning.\n"
     ]
    },
    {
     "name": "stderr",
     "output_type": "stream",
     "text": [
      "Using cache found in /root/.cache/torch/hub/facebookresearch_semi-supervised-ImageNet1K-models_master\n"
     ]
    },
    {
     "name": "stdout",
     "output_type": "stream",
     "text": [
      "Evaluating model with θ=0.15000000000000002 pruning.\n"
     ]
    },
    {
     "name": "stderr",
     "output_type": "stream",
     "text": [
      "Using cache found in /root/.cache/torch/hub/facebookresearch_semi-supervised-ImageNet1K-models_master\n"
     ]
    },
    {
     "name": "stdout",
     "output_type": "stream",
     "text": [
      "Evaluating model with θ=0.2 pruning.\n"
     ]
    },
    {
     "name": "stderr",
     "output_type": "stream",
     "text": [
      "Using cache found in /root/.cache/torch/hub/facebookresearch_semi-supervised-ImageNet1K-models_master\n"
     ]
    },
    {
     "name": "stdout",
     "output_type": "stream",
     "text": [
      "Evaluating model with θ=0.25 pruning.\n"
     ]
    },
    {
     "name": "stderr",
     "output_type": "stream",
     "text": [
      "Using cache found in /root/.cache/torch/hub/facebookresearch_semi-supervised-ImageNet1K-models_master\n"
     ]
    },
    {
     "name": "stdout",
     "output_type": "stream",
     "text": [
      "Evaluating model with θ=0.30000000000000004 pruning.\n"
     ]
    },
    {
     "name": "stderr",
     "output_type": "stream",
     "text": [
      "Using cache found in /root/.cache/torch/hub/facebookresearch_semi-supervised-ImageNet1K-models_master\n"
     ]
    },
    {
     "name": "stdout",
     "output_type": "stream",
     "text": [
      "Evaluating model with θ=0.35000000000000003 pruning.\n"
     ]
    },
    {
     "name": "stderr",
     "output_type": "stream",
     "text": [
      "Using cache found in /root/.cache/torch/hub/facebookresearch_semi-supervised-ImageNet1K-models_master\n"
     ]
    },
    {
     "name": "stdout",
     "output_type": "stream",
     "text": [
      "Evaluating model with θ=0.4 pruning.\n"
     ]
    },
    {
     "name": "stderr",
     "output_type": "stream",
     "text": [
      "Using cache found in /root/.cache/torch/hub/facebookresearch_semi-supervised-ImageNet1K-models_master\n"
     ]
    },
    {
     "name": "stdout",
     "output_type": "stream",
     "text": [
      "Evaluating model with θ=0.45 pruning.\n"
     ]
    },
    {
     "name": "stderr",
     "output_type": "stream",
     "text": [
      "Using cache found in /root/.cache/torch/hub/facebookresearch_semi-supervised-ImageNet1K-models_master\n"
     ]
    },
    {
     "name": "stdout",
     "output_type": "stream",
     "text": [
      "Evaluating model with θ=0.5 pruning.\n"
     ]
    },
    {
     "name": "stderr",
     "output_type": "stream",
     "text": [
      "Using cache found in /root/.cache/torch/hub/facebookresearch_semi-supervised-ImageNet1K-models_master\n"
     ]
    },
    {
     "name": "stdout",
     "output_type": "stream",
     "text": [
      "Evaluating model with θ=0.55 pruning.\n"
     ]
    },
    {
     "name": "stderr",
     "output_type": "stream",
     "text": [
      "Using cache found in /root/.cache/torch/hub/facebookresearch_semi-supervised-ImageNet1K-models_master\n"
     ]
    },
    {
     "name": "stdout",
     "output_type": "stream",
     "text": [
      "Evaluating model with θ=0.6000000000000001 pruning.\n"
     ]
    },
    {
     "name": "stderr",
     "output_type": "stream",
     "text": [
      "Using cache found in /root/.cache/torch/hub/facebookresearch_semi-supervised-ImageNet1K-models_master\n"
     ]
    },
    {
     "name": "stdout",
     "output_type": "stream",
     "text": [
      "Evaluating model with θ=0.65 pruning.\n"
     ]
    },
    {
     "name": "stderr",
     "output_type": "stream",
     "text": [
      "Using cache found in /root/.cache/torch/hub/facebookresearch_semi-supervised-ImageNet1K-models_master\n"
     ]
    },
    {
     "name": "stdout",
     "output_type": "stream",
     "text": [
      "Evaluating model with θ=0.7000000000000001 pruning.\n"
     ]
    },
    {
     "name": "stderr",
     "output_type": "stream",
     "text": [
      "Using cache found in /root/.cache/torch/hub/facebookresearch_semi-supervised-ImageNet1K-models_master\n"
     ]
    },
    {
     "name": "stdout",
     "output_type": "stream",
     "text": [
      "Evaluating model with θ=0.75 pruning.\n"
     ]
    },
    {
     "name": "stderr",
     "output_type": "stream",
     "text": [
      "Using cache found in /root/.cache/torch/hub/facebookresearch_semi-supervised-ImageNet1K-models_master\n"
     ]
    },
    {
     "name": "stdout",
     "output_type": "stream",
     "text": [
      "Evaluating model with θ=0.8 pruning.\n"
     ]
    },
    {
     "name": "stderr",
     "output_type": "stream",
     "text": [
      "Using cache found in /root/.cache/torch/hub/facebookresearch_semi-supervised-ImageNet1K-models_master\n"
     ]
    },
    {
     "name": "stdout",
     "output_type": "stream",
     "text": [
      "Evaluating model with θ=0.8500000000000001 pruning.\n"
     ]
    },
    {
     "name": "stderr",
     "output_type": "stream",
     "text": [
      "Using cache found in /root/.cache/torch/hub/facebookresearch_semi-supervised-ImageNet1K-models_master\n"
     ]
    },
    {
     "name": "stdout",
     "output_type": "stream",
     "text": [
      "[(0, 1.2599949543223237), (0.05, 1.2633455287326465), (0.1, 1.2692795576471272), (0.15000000000000002, 1.2879794664455182), (0.2, 1.2935932590202852), (0.25, 1.2629090091495803), (0.30000000000000004, 1.2295169125903735), (0.35000000000000003, 1.2251191091808407), (0.4, 1.2340381452531526), (0.45, 1.331299302252856), (0.5, 1.3634718516559312), (0.55, 1.5885701897469433), (0.6000000000000001, 2.299563388932835), (0.65, 2.5253989732626714), (0.7000000000000001, 3.8075855618173424), (0.75, 4.721213411201131), (0.8, 7.21074643460187), (0.8500000000000001, 26.48252417824485)]\n",
      "CPU times: user 41min 33s, sys: 1min 28s, total: 43min 2s\n",
      "Wall time: 27min 17s\n"
     ]
    }
   ],
   "source": [
    "%%time\n",
    "losses = test_pruning_jobs(get_model, prune_fn, get_model_val_loss)\n",
    "print(losses)"
   ]
  },
  {
   "cell_type": "code",
   "execution_count": 24,
   "metadata": {},
   "outputs": [
    {
     "data": {
      "text/plain": [
       "<function pandas.core.frame.DataFrame.assign(self, **kwargs) -> 'DataFrame'>"
      ]
     },
     "execution_count": 24,
     "metadata": {},
     "output_type": "execute_result"
    }
   ],
   "source": [
    "pd.DataFrame.assign"
   ]
  },
  {
   "cell_type": "code",
   "execution_count": 52,
   "metadata": {},
   "outputs": [
    {
     "data": {
      "image/png": "[encoded data removed]",
      "text/plain": [
       "<Figure size 864x576 with 1 Axes>"
      ]
     },
     "metadata": {},
     "output_type": "display_data"
    }
   ],
   "source": [
    "import matplotlib.pyplot as plt\n",
    "import seaborn as sns\n",
    "plt.style.use('seaborn-white')\n",
    "\n",
    "import pandas as pd\n",
    "(pd.DataFrame(losses, columns=['sparsity', 'loss'])\n",
    " .pipe(lambda df: df.assign(\n",
    "     perf=(df.loss - pd.Series([losses[0][1]] * len(df))) / losses[0][1] + 1\n",
    " ))\n",
    " .head(15)\n",
    " .plot.line(x='sparsity', y='perf', figsize=(12, 8), title=\"L1 Unstructured Pruned Mean Batch Loss\")\n",
    ")\n",
    "sns.despine()"
   ]
  },
  {
   "cell_type": "code",
   "execution_count": 55,
   "metadata": {},
   "outputs": [],
   "source": [
    "def prune_model_l1_structured(model, layer_type, proportion):\n",
    "    \"\"\"\n",
    "    Prunes the model.\n",
    "    \"\"\"\n",
    "    # NOTE(aleksey): modules in a Sequential module have names like 4.1.conv3.\n",
    "    for name, module in model.enc.named_modules():\n",
    "        if isinstance(module, layer_type):\n",
    "            prune.ln_structured(module, 'weight', proportion, n=1, dim=1)\n",
    "            prune.remove(module, 'weight')\n",
    "    return model\n",
    "\n",
    "prune_fn = lambda model, proportion: prune_model_l1_structured(model, nn.Conv2d, proportion)"
   ]
  },
  {
   "cell_type": "code",
   "execution_count": 56,
   "metadata": {},
   "outputs": [
    {
     "name": "stdout",
     "output_type": "stream",
     "text": [
      "Evaluating model with θ=0 pruning.\n"
     ]
    },
    {
     "name": "stderr",
     "output_type": "stream",
     "text": [
      "Using cache found in /root/.cache/torch/hub/facebookresearch_semi-supervised-ImageNet1K-models_master\n"
     ]
    },
    {
     "name": "stdout",
     "output_type": "stream",
     "text": [
      "Evaluating model with θ=0.05 pruning.\n"
     ]
    },
    {
     "name": "stderr",
     "output_type": "stream",
     "text": [
      "Using cache found in /root/.cache/torch/hub/facebookresearch_semi-supervised-ImageNet1K-models_master\n"
     ]
    },
    {
     "name": "stdout",
     "output_type": "stream",
     "text": [
      "Evaluating model with θ=0.1 pruning.\n"
     ]
    },
    {
     "name": "stderr",
     "output_type": "stream",
     "text": [
      "Using cache found in /root/.cache/torch/hub/facebookresearch_semi-supervised-ImageNet1K-models_master\n"
     ]
    },
    {
     "name": "stdout",
     "output_type": "stream",
     "text": [
      "Evaluating model with θ=0.15000000000000002 pruning.\n"
     ]
    },
    {
     "name": "stderr",
     "output_type": "stream",
     "text": [
      "Using cache found in /root/.cache/torch/hub/facebookresearch_semi-supervised-ImageNet1K-models_master\n"
     ]
    },
    {
     "name": "stdout",
     "output_type": "stream",
     "text": [
      "Evaluating model with θ=0.2 pruning.\n"
     ]
    },
    {
     "name": "stderr",
     "output_type": "stream",
     "text": [
      "Using cache found in /root/.cache/torch/hub/facebookresearch_semi-supervised-ImageNet1K-models_master\n"
     ]
    },
    {
     "name": "stdout",
     "output_type": "stream",
     "text": [
      "Evaluating model with θ=0.25 pruning.\n"
     ]
    },
    {
     "name": "stderr",
     "output_type": "stream",
     "text": [
      "Using cache found in /root/.cache/torch/hub/facebookresearch_semi-supervised-ImageNet1K-models_master\n"
     ]
    },
    {
     "name": "stdout",
     "output_type": "stream",
     "text": [
      "Evaluating model with θ=0.30000000000000004 pruning.\n"
     ]
    },
    {
     "name": "stderr",
     "output_type": "stream",
     "text": [
      "Using cache found in /root/.cache/torch/hub/facebookresearch_semi-supervised-ImageNet1K-models_master\n"
     ]
    },
    {
     "name": "stdout",
     "output_type": "stream",
     "text": [
      "Evaluating model with θ=0.35000000000000003 pruning.\n"
     ]
    },
    {
     "name": "stderr",
     "output_type": "stream",
     "text": [
      "Using cache found in /root/.cache/torch/hub/facebookresearch_semi-supervised-ImageNet1K-models_master\n"
     ]
    },
    {
     "name": "stdout",
     "output_type": "stream",
     "text": [
      "Evaluating model with θ=0.4 pruning.\n"
     ]
    },
    {
     "name": "stderr",
     "output_type": "stream",
     "text": [
      "Using cache found in /root/.cache/torch/hub/facebookresearch_semi-supervised-ImageNet1K-models_master\n"
     ]
    },
    {
     "name": "stdout",
     "output_type": "stream",
     "text": [
      "Evaluating model with θ=0.45 pruning.\n"
     ]
    },
    {
     "name": "stderr",
     "output_type": "stream",
     "text": [
      "Using cache found in /root/.cache/torch/hub/facebookresearch_semi-supervised-ImageNet1K-models_master\n"
     ]
    },
    {
     "name": "stdout",
     "output_type": "stream",
     "text": [
      "Evaluating model with θ=0.5 pruning.\n"
     ]
    },
    {
     "name": "stderr",
     "output_type": "stream",
     "text": [
      "Using cache found in /root/.cache/torch/hub/facebookresearch_semi-supervised-ImageNet1K-models_master\n"
     ]
    },
    {
     "name": "stdout",
     "output_type": "stream",
     "text": [
      "Evaluating model with θ=0.55 pruning.\n"
     ]
    },
    {
     "name": "stderr",
     "output_type": "stream",
     "text": [
      "Using cache found in /root/.cache/torch/hub/facebookresearch_semi-supervised-ImageNet1K-models_master\n"
     ]
    },
    {
     "name": "stdout",
     "output_type": "stream",
     "text": [
      "Evaluating model with θ=0.6000000000000001 pruning.\n"
     ]
    },
    {
     "name": "stderr",
     "output_type": "stream",
     "text": [
      "Using cache found in /root/.cache/torch/hub/facebookresearch_semi-supervised-ImageNet1K-models_master\n"
     ]
    },
    {
     "name": "stdout",
     "output_type": "stream",
     "text": [
      "Evaluating model with θ=0.65 pruning.\n"
     ]
    },
    {
     "name": "stderr",
     "output_type": "stream",
     "text": [
      "Using cache found in /root/.cache/torch/hub/facebookresearch_semi-supervised-ImageNet1K-models_master\n"
     ]
    },
    {
     "name": "stdout",
     "output_type": "stream",
     "text": [
      "Evaluating model with θ=0.7000000000000001 pruning.\n"
     ]
    },
    {
     "name": "stderr",
     "output_type": "stream",
     "text": [
      "Using cache found in /root/.cache/torch/hub/facebookresearch_semi-supervised-ImageNet1K-models_master\n"
     ]
    },
    {
     "name": "stdout",
     "output_type": "stream",
     "text": [
      "Evaluating model with θ=0.75 pruning.\n"
     ]
    },
    {
     "name": "stderr",
     "output_type": "stream",
     "text": [
      "Using cache found in /root/.cache/torch/hub/facebookresearch_semi-supervised-ImageNet1K-models_master\n"
     ]
    },
    {
     "name": "stdout",
     "output_type": "stream",
     "text": [
      "Evaluating model with θ=0.8 pruning.\n"
     ]
    },
    {
     "name": "stderr",
     "output_type": "stream",
     "text": [
      "Using cache found in /root/.cache/torch/hub/facebookresearch_semi-supervised-ImageNet1K-models_master\n"
     ]
    },
    {
     "name": "stdout",
     "output_type": "stream",
     "text": [
      "Evaluating model with θ=0.8500000000000001 pruning.\n"
     ]
    },
    {
     "name": "stderr",
     "output_type": "stream",
     "text": [
      "Using cache found in /root/.cache/torch/hub/facebookresearch_semi-supervised-ImageNet1K-models_master\n"
     ]
    },
    {
     "name": "stdout",
     "output_type": "stream",
     "text": [
      "[(0, 1.2599949543223237), (0.05, 1.2265391584598657), (0.1, 1.4497346313613835), (0.15000000000000002, 2.7092741637518913), (0.2, 4.5326409556648946), (0.25, 4.772459423903263), (0.30000000000000004, 5.701777506958354), (0.35000000000000003, 8.00228102460052), (0.4, 14.310866393826224), (0.45, 19.010703339721218), (0.5, 7.072856971711824), (0.55, 20.248330759279657), (0.6000000000000001, 37.9292118621595), (0.65, 51.34608421903668), (0.7000000000000001, 48.860263564369895), (0.75, 68.35477485078754), (0.8, 35.13974808201645), (0.8500000000000001, 42.69696310794715)]\n",
      "CPU times: user 41min 27s, sys: 1min 17s, total: 42min 44s\n",
      "Wall time: 27min 4s\n"
     ]
    }
   ],
   "source": [
    "%%time\n",
    "losses = test_pruning_jobs(get_model, prune_fn, get_model_val_loss)\n",
    "print(losses)"
   ]
  },
  {
   "cell_type": "code",
   "execution_count": 61,
   "metadata": {},
   "outputs": [
    {
     "data": {
      "image/png": "[encoded data removed]",
      "text/plain": [
       "<Figure size 864x576 with 1 Axes>"
      ]
     },
     "metadata": {},
     "output_type": "display_data"
    }
   ],
   "source": [
    "import matplotlib.pyplot as plt\n",
    "import seaborn as sns\n",
    "plt.style.use('seaborn-white')\n",
    "\n",
    "import pandas as pd\n",
    "(pd.DataFrame(losses, columns=['sparsity', 'loss'])\n",
    " .pipe(lambda df: df.assign(\n",
    "     perf=(df.loss - pd.Series([losses[0][1]] * len(df))) / losses[0][1] + 1\n",
    " ))\n",
    " .head(10)\n",
    " .plot.line(x='sparsity', y='perf', figsize=(12, 8), title=\"L1 Structured Pruned Mean Batch Loss\")\n",
    ")\n",
    "sns.despine()"
   ]
  },
  {
   "cell_type": "code",
   "execution_count": 63,
   "metadata": {},
   "outputs": [
    {
     "name": "stderr",
     "output_type": "stream",
     "text": [
      "Using cache found in /root/.cache/torch/hub/facebookresearch_semi-supervised-ImageNet1K-models_master\n"
     ]
    }
   ],
   "source": [
    "model = prune_model(get_model(), nn.Conv2d, 0.5)"
   ]
  },
  {
   "cell_type": "code",
   "execution_count": 64,
   "metadata": {},
   "outputs": [
    {
     "name": "stdout",
     "output_type": "stream",
     "text": [
      "CPU times: user 2min 20s, sys: 4.19 s, total: 2min 24s\n",
      "Wall time: 1min 31s\n"
     ]
    },
    {
     "data": {
      "text/plain": [
       "1.3634718516559312"
      ]
     },
     "execution_count": 64,
     "metadata": {},
     "output_type": "execute_result"
    }
   ],
   "source": [
    "%time get_model_val_loss(model)"
   ]
  },
  {
   "cell_type": "code",
   "execution_count": 70,
   "metadata": {},
   "outputs": [],
   "source": [
    "# Throws runtime error! to_sparse() not working on torch.stack\n",
    "\n",
    "# def get_sparse_model_val_loss(model):\n",
    "#     \"\"\"\n",
    "#     Returns the mean validation loss for the input model.\n",
    "#     \"\"\"\n",
    "#     criterion = nn.CrossEntropyLoss()\n",
    "#     losses = []\n",
    "    \n",
    "#     with torch.no_grad():\n",
    "#         for i, (X, _, y) in enumerate(iter(test_dataloader)):\n",
    "#             X = X.to_sparse().cuda()\n",
    "#             y = y.to_sparse().cuda()\n",
    "            \n",
    "#             X_pred = model(X)\n",
    "#             loss = criterion(X_pred, y)\n",
    "#             curr_loss = loss.item()\n",
    "#             losses.append(curr_loss)\n",
    "\n",
    "#     return np.mean(losses)\n",
    "#\n",
    "# get_sparse_model_val_loss(model)"
   ]
  },
  {
   "cell_type": "code",
   "execution_count": 123,
   "metadata": {},
   "outputs": [],
   "source": [
    "def prune_model_global_unstructured(model, layer_type, proportion):\n",
    "    module_tups = []\n",
    "    for module in model.modules():\n",
    "        if isinstance(module, layer_type):\n",
    "            module_tups.append((module, 'weight'))\n",
    "\n",
    "    prune.global_unstructured(\n",
    "        parameters=module_tups, pruning_method=prune.L1Unstructured,\n",
    "        amount=proportion\n",
    "    )\n",
    "    for module, _ in module_tups:\n",
    "        prune.remove(module, 'weight')\n",
    "    return model\n",
    "\n",
    "prune_fn = lambda model, proportion: prune_model_global_unstructured(model, nn.Conv2d, proportion)"
   ]
  },
  {
   "cell_type": "code",
   "execution_count": 124,
   "metadata": {},
   "outputs": [
    {
     "name": "stdout",
     "output_type": "stream",
     "text": [
      "Evaluating model with θ=0 pruning.\n"
     ]
    },
    {
     "name": "stderr",
     "output_type": "stream",
     "text": [
      "Using cache found in /root/.cache/torch/hub/facebookresearch_semi-supervised-ImageNet1K-models_master\n"
     ]
    },
    {
     "name": "stdout",
     "output_type": "stream",
     "text": [
      "Evaluating model with θ=0.05 pruning.\n"
     ]
    },
    {
     "name": "stderr",
     "output_type": "stream",
     "text": [
      "Using cache found in /root/.cache/torch/hub/facebookresearch_semi-supervised-ImageNet1K-models_master\n"
     ]
    },
    {
     "name": "stdout",
     "output_type": "stream",
     "text": [
      "Evaluating model with θ=0.1 pruning.\n"
     ]
    },
    {
     "name": "stderr",
     "output_type": "stream",
     "text": [
      "Using cache found in /root/.cache/torch/hub/facebookresearch_semi-supervised-ImageNet1K-models_master\n"
     ]
    },
    {
     "name": "stdout",
     "output_type": "stream",
     "text": [
      "Evaluating model with θ=0.15000000000000002 pruning.\n"
     ]
    },
    {
     "name": "stderr",
     "output_type": "stream",
     "text": [
      "Using cache found in /root/.cache/torch/hub/facebookresearch_semi-supervised-ImageNet1K-models_master\n"
     ]
    },
    {
     "name": "stdout",
     "output_type": "stream",
     "text": [
      "Evaluating model with θ=0.2 pruning.\n"
     ]
    },
    {
     "name": "stderr",
     "output_type": "stream",
     "text": [
      "Using cache found in /root/.cache/torch/hub/facebookresearch_semi-supervised-ImageNet1K-models_master\n"
     ]
    },
    {
     "name": "stdout",
     "output_type": "stream",
     "text": [
      "Evaluating model with θ=0.25 pruning.\n"
     ]
    },
    {
     "name": "stderr",
     "output_type": "stream",
     "text": [
      "Using cache found in /root/.cache/torch/hub/facebookresearch_semi-supervised-ImageNet1K-models_master\n"
     ]
    },
    {
     "name": "stdout",
     "output_type": "stream",
     "text": [
      "Evaluating model with θ=0.30000000000000004 pruning.\n"
     ]
    },
    {
     "name": "stderr",
     "output_type": "stream",
     "text": [
      "Using cache found in /root/.cache/torch/hub/facebookresearch_semi-supervised-ImageNet1K-models_master\n"
     ]
    },
    {
     "name": "stdout",
     "output_type": "stream",
     "text": [
      "Evaluating model with θ=0.35000000000000003 pruning.\n"
     ]
    },
    {
     "name": "stderr",
     "output_type": "stream",
     "text": [
      "Using cache found in /root/.cache/torch/hub/facebookresearch_semi-supervised-ImageNet1K-models_master\n"
     ]
    },
    {
     "name": "stdout",
     "output_type": "stream",
     "text": [
      "Evaluating model with θ=0.4 pruning.\n"
     ]
    },
    {
     "name": "stderr",
     "output_type": "stream",
     "text": [
      "Using cache found in /root/.cache/torch/hub/facebookresearch_semi-supervised-ImageNet1K-models_master\n"
     ]
    },
    {
     "name": "stdout",
     "output_type": "stream",
     "text": [
      "Evaluating model with θ=0.45 pruning.\n"
     ]
    },
    {
     "name": "stderr",
     "output_type": "stream",
     "text": [
      "Using cache found in /root/.cache/torch/hub/facebookresearch_semi-supervised-ImageNet1K-models_master\n"
     ]
    },
    {
     "name": "stdout",
     "output_type": "stream",
     "text": [
      "Evaluating model with θ=0.5 pruning.\n"
     ]
    },
    {
     "name": "stderr",
     "output_type": "stream",
     "text": [
      "Using cache found in /root/.cache/torch/hub/facebookresearch_semi-supervised-ImageNet1K-models_master\n"
     ]
    },
    {
     "name": "stdout",
     "output_type": "stream",
     "text": [
      "Evaluating model with θ=0.55 pruning.\n"
     ]
    },
    {
     "name": "stderr",
     "output_type": "stream",
     "text": [
      "Using cache found in /root/.cache/torch/hub/facebookresearch_semi-supervised-ImageNet1K-models_master\n"
     ]
    },
    {
     "name": "stdout",
     "output_type": "stream",
     "text": [
      "Evaluating model with θ=0.6000000000000001 pruning.\n"
     ]
    },
    {
     "name": "stderr",
     "output_type": "stream",
     "text": [
      "Using cache found in /root/.cache/torch/hub/facebookresearch_semi-supervised-ImageNet1K-models_master\n"
     ]
    },
    {
     "name": "stdout",
     "output_type": "stream",
     "text": [
      "Evaluating model with θ=0.65 pruning.\n"
     ]
    },
    {
     "name": "stderr",
     "output_type": "stream",
     "text": [
      "Using cache found in /root/.cache/torch/hub/facebookresearch_semi-supervised-ImageNet1K-models_master\n"
     ]
    },
    {
     "name": "stdout",
     "output_type": "stream",
     "text": [
      "Evaluating model with θ=0.7000000000000001 pruning.\n"
     ]
    },
    {
     "name": "stderr",
     "output_type": "stream",
     "text": [
      "Using cache found in /root/.cache/torch/hub/facebookresearch_semi-supervised-ImageNet1K-models_master\n"
     ]
    },
    {
     "name": "stdout",
     "output_type": "stream",
     "text": [
      "Evaluating model with θ=0.75 pruning.\n"
     ]
    },
    {
     "name": "stderr",
     "output_type": "stream",
     "text": [
      "Using cache found in /root/.cache/torch/hub/facebookresearch_semi-supervised-ImageNet1K-models_master\n"
     ]
    },
    {
     "name": "stdout",
     "output_type": "stream",
     "text": [
      "Evaluating model with θ=0.8 pruning.\n"
     ]
    },
    {
     "name": "stderr",
     "output_type": "stream",
     "text": [
      "Using cache found in /root/.cache/torch/hub/facebookresearch_semi-supervised-ImageNet1K-models_master\n"
     ]
    },
    {
     "name": "stdout",
     "output_type": "stream",
     "text": [
      "Evaluating model with θ=0.8500000000000001 pruning.\n"
     ]
    },
    {
     "name": "stderr",
     "output_type": "stream",
     "text": [
      "Using cache found in /root/.cache/torch/hub/facebookresearch_semi-supervised-ImageNet1K-models_master\n"
     ]
    },
    {
     "name": "stdout",
     "output_type": "stream",
     "text": [
      "[(0, 1.2599949543223237), (0.05, 1.2599682392496052), (0.1, 1.2596548904072156), (0.15000000000000002, 1.2625070954814102), (0.2, 1.2638700527675224), (0.25, 1.2585663930936293), (0.30000000000000004, 1.2643765752965754), (0.35000000000000003, 1.2678472056533352), (0.4, 1.270226574305332), (0.45, 1.2607451022574396), (0.5, 1.2691815549677068), (0.55, 1.255461210102746), (0.6000000000000001, 1.2621584110187762), (0.65, 1.2443837293169715), (0.7000000000000001, 1.2217888633410137), (0.75, 1.1931778811144107), (0.8, 1.2343535233627667), (0.8500000000000001, 1.4846959109559204)]\n",
      "CPU times: user 41min 41s, sys: 1min 31s, total: 43min 13s\n",
      "Wall time: 27min 23s\n"
     ]
    }
   ],
   "source": [
    "%%time\n",
    "losses = test_pruning_jobs(get_model, prune_fn, get_model_val_loss)\n",
    "print(losses)"
   ]
  },
  {
   "cell_type": "code",
   "execution_count": 127,
   "metadata": {},
   "outputs": [
    {
     "data": {
      "image/png": "[encoded data removed]",
      "text/plain": [
       "<Figure size 864x576 with 1 Axes>"
      ]
     },
     "metadata": {},
     "output_type": "display_data"
    }
   ],
   "source": [
    "import matplotlib.pyplot as plt\n",
    "import seaborn as sns\n",
    "plt.style.use('seaborn-white')\n",
    "\n",
    "import pandas as pd\n",
    "(pd.DataFrame(losses, columns=['sparsity', 'loss'])\n",
    " .pipe(lambda df: df.assign(\n",
    "     perf=(df.loss - pd.Series([losses[0][1]] * len(df))) / losses[0][1] + 1\n",
    " ))\n",
    " .plot.line(x='sparsity', y='perf', figsize=(12, 8), title=\"L1 Global Unstructured Pruned Mean Batch Loss\")\n",
    ")\n",
    "sns.despine()"
   ]
  },
  {
   "cell_type": "markdown",
   "metadata": {},
   "source": [
    "## Pruning model size\n",
    "\n",
    "Uncompressed size is the same."
   ]
  },
  {
   "cell_type": "code",
   "execution_count": 83,
   "metadata": {},
   "outputs": [
    {
     "name": "stderr",
     "output_type": "stream",
     "text": [
      "Using cache found in /root/.cache/torch/hub/facebookresearch_semi-supervised-ImageNet1K-models_master\n"
     ]
    },
    {
     "name": "stdout",
     "output_type": "stream",
     "text": [
      "97M\t/tmp/model.h5\n"
     ]
    }
   ],
   "source": [
    "model = get_model()\n",
    "torch.save(model.state_dict(), \"/tmp/model.h5\")\n",
    "\n",
    "!du -h /tmp/model.h5"
   ]
  },
  {
   "cell_type": "code",
   "execution_count": 82,
   "metadata": {},
   "outputs": [
    {
     "name": "stderr",
     "output_type": "stream",
     "text": [
      "Using cache found in /root/.cache/torch/hub/facebookresearch_semi-supervised-ImageNet1K-models_master\n"
     ]
    },
    {
     "name": "stdout",
     "output_type": "stream",
     "text": [
      "97M\t/tmp/model.h5\n"
     ]
    }
   ],
   "source": [
    "model = get_model()\n",
    "model = prune_model(model, nn.Conv2d, 0.4)\n",
    "torch.save(model.state_dict(), \"/tmp/model.h5\")\n",
    "\n",
    "!du -h /tmp/model.h5"
   ]
  },
  {
   "cell_type": "markdown",
   "metadata": {},
   "source": [
    "Compressed size is smaller."
   ]
  },
  {
   "cell_type": "code",
   "execution_count": 96,
   "metadata": {},
   "outputs": [
    {
     "name": "stderr",
     "output_type": "stream",
     "text": [
      "Using cache found in /root/.cache/torch/hub/facebookresearch_semi-supervised-ImageNet1K-models_master\n"
     ]
    },
    {
     "name": "stdout",
     "output_type": "stream",
     "text": [
      "90M\t/tmp/model.h5.gz\n"
     ]
    }
   ],
   "source": [
    "model = get_model()\n",
    "torch.save(model.state_dict(), \"/tmp/model.h5\")\n",
    "\n",
    "!gzip -qf /tmp/model.h5\n",
    "!du -h /tmp/model.h5.gz"
   ]
  },
  {
   "cell_type": "code",
   "execution_count": 97,
   "metadata": {},
   "outputs": [
    {
     "name": "stderr",
     "output_type": "stream",
     "text": [
      "Using cache found in /root/.cache/torch/hub/facebookresearch_semi-supervised-ImageNet1K-models_master\n"
     ]
    },
    {
     "name": "stdout",
     "output_type": "stream",
     "text": [
      "65M\t/tmp/model.h5.gz\n"
     ]
    }
   ],
   "source": [
    "model = get_model()\n",
    "model = prune_model(model, nn.Conv2d, 0.4)\n",
    "torch.save(model.state_dict(), \"/tmp/model.h5\")\n",
    "\n",
    "!gzip -qf /tmp/model.h5\n",
    "!du -h /tmp/model.h5.gz"
   ]
  }
 ],
 "metadata": {
  "kernelspec": {
   "display_name": "Python 3",
   "language": "python",
   "name": "python3"
  },
  "language_info": {
   "codemirror_mode": {
    "name": "ipython",
    "version": 3
   },
   "file_extension": ".py",
   "mimetype": "text/x-python",
   "name": "python",
   "nbconvert_exporter": "python",
   "pygments_lexer": "ipython3",
   "version": "3.7.9"
  }
 },
 "nbformat": 4,
 "nbformat_minor": 4
}
