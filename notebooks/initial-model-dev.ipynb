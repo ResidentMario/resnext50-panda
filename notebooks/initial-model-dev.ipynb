{
 "cells": [
  {
   "cell_type": "markdown",
   "metadata": {},
   "source": [
    "# resnext50-panda\n",
    "\n",
    "This notebook is an adaptation of the [PANDA 16x128x128 tiles](https://www.kaggle.com/iafoss/panda-16x128x128-tiles) and the [PANDA concat tile pooling starter](https://www.kaggle.com/iafoss/panda-concat-tile-pooling-starter-0-79-lb) notebooks from the [Prostate Cancer Grade Assessment Challenge](https://www.kaggle.com/c/prostate-cancer-grade-assessment) competition on Kaggle."
   ]
  },
  {
   "cell_type": "markdown",
   "metadata": {},
   "source": [
    "## Downloading\n",
    "\n",
    "This is a very large dataset (around 400 GB uncompressed, about 200 GB `zip` compressed). As such, working with it requires tolerating some load times.\n",
    "\n",
    "The notebook `getting-the-data.ipynb` steps through the process of downloading this data (you will need your own Kaggle account and Kaggle API, and you will need to accept the rules of the competition on the Kaggle website).\n",
    "\n",
    "To speed up workspace initialization time, I keep only the raw compressed dataset saved to `/spell/datasets/raw/`, so the machine only needs to load those 200 GB at initialization time. To actually get started, you will then need to uncompress the dataset, which is done here.\n",
    "\n",
    "Some estimated times:\n",
    "\n",
    "* 1 hour to download the compressed dataset (200 GB of data).\n",
    "* 20 minutes to start up the workspace (due to the presence of 200 GB of compressed data).\n",
    "* 40 minutes to unpack the compressed data onto disk (unpacks into 400 GB of data)."
   ]
  },
  {
   "cell_type": "code",
   "execution_count": 5,
   "metadata": {},
   "outputs": [],
   "source": [
    "!unzip -q /spell/datasets/raw/prostate-cancer-grade-assessment.zip -d /mnt/prostate-cancer-grade-assessment/"
   ]
  },
  {
   "cell_type": "code",
   "execution_count": 8,
   "metadata": {},
   "outputs": [],
   "source": [
    "# !pip install imagecodecs"
   ]
  },
  {
   "cell_type": "code",
   "execution_count": 3,
   "metadata": {},
   "outputs": [],
   "source": [
    "# !apt-get update && apt-get install ffmpeg libsm6 libxext6  -y"
   ]
  },
  {
   "cell_type": "code",
   "execution_count": 49,
   "metadata": {},
   "outputs": [],
   "source": [
    "# !pip install fastai"
   ]
  },
  {
   "cell_type": "markdown",
   "metadata": {},
   "source": [
    "## Preprocessing\n",
    "\n",
    "The underlying dataset has a lot of whitespace, so we split it into tiles and pick the tiles with the largest number of non-whitespace information (throwing away the rest). Check [the source notebook](https://www.kaggle.com/iafoss/panda-16x128x128-tiles) for the source, and some helpful explanation/visualization of how this works."
   ]
  },
  {
   "cell_type": "code",
   "execution_count": 2,
   "metadata": {},
   "outputs": [],
   "source": [
    "TRAIN = '/mnt/prostate-cancer-grade-assessment/train_images/'\n",
    "MASKS = '/mnt/prostate-cancer-grade-assessment/train_label_masks/'\n",
    "LABELS = '/mnt/prostate-cancer-grade-assessment/train.csv'\n",
    "OUT_TRAIN = '/spell/datasets/working/train.zip'\n",
    "OUT_MASKS = '/spell/datasets/working/masks.zip'\n",
    "sz = 128\n",
    "N = 16"
   ]
  },
  {
   "cell_type": "code",
   "execution_count": 3,
   "metadata": {},
   "outputs": [],
   "source": [
    "import skimage\n",
    "from skimage.io import MultiImage\n",
    "import zipfile\n",
    "import os\n",
    "from tqdm import tqdm\n",
    "import numpy as np\n",
    "import cv2"
   ]
  },
  {
   "cell_type": "code",
   "execution_count": 4,
   "metadata": {},
   "outputs": [],
   "source": [
    "def tile(img, mask):\n",
    "    result = []\n",
    "    shape = img.shape\n",
    "    pad0, pad1 = (sz - shape[0] % sz) % sz, (sz - shape[1] % sz) % sz\n",
    "    img = np.pad(\n",
    "        img, [[pad0 // 2, pad0 - pad0 // 2], [pad1 // 2, pad1 - pad1 // 2], [0, 0]],\n",
    "        mode='constant', constant_values=255\n",
    "    )\n",
    "    mask = np.pad(\n",
    "        mask, [[pad0 // 2, pad0 - pad0 // 2], [pad1 // 2, pad1 - pad1 // 2], [0,0]],\n",
    "        mode='constant', constant_values=0\n",
    "    )\n",
    "    img = img.reshape(img.shape[0] // sz, sz, img.shape[1] // sz, sz, 3)\n",
    "    img = img.transpose(0, 2, 1, 3, 4).reshape(-1, sz, sz, 3)\n",
    "    mask = mask.reshape(mask.shape[0] // sz, sz, mask.shape[1] // sz, sz, 3)\n",
    "    mask = mask.transpose(0, 2, 1, 3, 4).reshape(-1, sz, sz, 3)\n",
    "    if len(img) < N:\n",
    "        mask = np.pad(mask, [[0, N-len(img)], [0,0], [0,0], [0,0]], mode='constant', constant_values=0)\n",
    "        img = np.pad(img, [[0, N-len(img)], [0,0], [0,0], [0,0]], mode='constant', constant_values=255)\n",
    "    idxs = np.argsort(img.reshape(img.shape[0],-1).sum(-1))[:N]\n",
    "    img = img[idxs]\n",
    "    mask = mask[idxs]\n",
    "    for i in range(len(img)):\n",
    "        result.append({'img': img[i], 'mask': mask[i], 'idx': i})\n",
    "    return result"
   ]
  },
  {
   "cell_type": "code",
   "execution_count": 81,
   "metadata": {},
   "outputs": [
    {
     "name": "stderr",
     "output_type": "stream",
     "text": [
      "100%|██████████| 10516/10516 [10:10<00:00, 17.23it/s]\n"
     ]
    }
   ],
   "source": [
    "x_tot, x2_tot = [],[]\n",
    "names = [name[:-10] for name in os.listdir(MASKS)]\n",
    "with zipfile.ZipFile(OUT_TRAIN, 'w') as img_out, \\\n",
    "    zipfile.ZipFile(OUT_MASKS, 'w') as mask_out:\n",
    "    for name in tqdm(names):\n",
    "        img = MultiImage(os.path.join(TRAIN,name+'.tiff'))[-1]\n",
    "        mask = MultiImage(os.path.join(MASKS,name+'_mask.tiff'))[-1]\n",
    "        tiles = tile(img,mask)\n",
    "        for t in tiles:\n",
    "            img, mask, idx = t['img'], t['mask'], t['idx']\n",
    "            x_tot.append((img / 255.0).reshape(-1, 3).mean(0))\n",
    "            x2_tot.append(((img / 255.0) ** 2).reshape(-1, 3).mean(0)) \n",
    "            # if read with PIL RGB turns into BGR\n",
    "            img = cv2.imencode('.png', cv2.cvtColor(img, cv2.COLOR_RGB2BGR))[1]\n",
    "            img_out.writestr(f'{name}_{idx}.png', img)\n",
    "            mask = cv2.imencode('.png', mask[:,:,0])[1]\n",
    "            mask_out.writestr(f'{name}_{idx}.png', mask)"
   ]
  },
  {
   "cell_type": "code",
   "execution_count": 36,
   "metadata": {},
   "outputs": [
    {
     "data": {
      "image/png": "[encoded data removed]",
      "text/plain": [
       "<IPython.core.display.Image object>"
      ]
     },
     "execution_count": 36,
     "metadata": {},
     "output_type": "execute_result"
    }
   ],
   "source": [
    "from IPython.display import Image\n",
    "\n",
    "ex_img_zf = zipfile.ZipFile(OUT_TRAIN)\n",
    "ex_img = ex_img_zf.open(ex_img_zf.infolist()[0].filename)\n",
    "ex_img_zf.close()\n",
    "\n",
    "Image(ex_img.read())"
   ]
  },
  {
   "cell_type": "code",
   "execution_count": 37,
   "metadata": {},
   "outputs": [
    {
     "data": {
      "image/png": "[encoded data removed]",
      "text/plain": [
       "<IPython.core.display.Image object>"
      ]
     },
     "execution_count": 37,
     "metadata": {},
     "output_type": "execute_result"
    }
   ],
   "source": [
    "ex_mask_zf = zipfile.ZipFile(OUT_MASKS)\n",
    "ex_mask = ex_mask_zf.open(ex_mask_zf.infolist()[0].filename)\n",
    "ex_mask_zf.close()\n",
    "\n",
    "Image(ex_mask.read())"
   ]
  },
  {
   "cell_type": "markdown",
   "metadata": {},
   "source": [
    "To get this data into a run, you need to upload it as follows:"
   ]
  },
  {
   "cell_type": "markdown",
   "metadata": {},
   "source": [
    "```python\n",
    "# panda is a directory containing {train.csv, train.zip, masks.zip}\n",
    "spell upload panda\n",
    "```"
   ]
  },
  {
   "cell_type": "markdown",
   "metadata": {},
   "source": [
    "This should land these files in the `panda` directory in the `uploads/` path on Spell, you can verify it worked via `spell ls uploads/` and `spell ls uploads/panda/`."
   ]
  },
  {
   "cell_type": "markdown",
   "metadata": {},
   "source": [
    "## Dataloader"
   ]
  },
  {
   "cell_type": "markdown",
   "metadata": {},
   "source": [
    "The CNN takes a normalized float tensor as input, so we first need to calculate the \"magic numbers\" (per-channel mean value and per-channel standard deviation) that we will pass to the `torch.transforms.Normalize` function in the dataset constructor."
   ]
  },
  {
   "cell_type": "code",
   "execution_count": 6,
   "metadata": {},
   "outputs": [],
   "source": [
    "from PIL import Image\n",
    "import numpy as np\n",
    "import zipfile\n",
    "import io\n",
    "\n",
    "def estimate_mean_and_std(zf_path, n_samples=1000):\n",
    "    def calculate_mean_and_std(img_arr):\n",
    "        return np.mean(img_arr, axis=(0, 1)), np.std(img_arr, axis=(0, 1))\n",
    "\n",
    "    all_per_channel_means = []\n",
    "    all_per_channel_stds = []\n",
    "    \n",
    "    with zipfile.ZipFile(zf_path) as zf:\n",
    "        for img_info in np.random.choice(zf.infolist(), n_samples):\n",
    "            img_fn = img_info.filename\n",
    "            with zf.open(img_fn) as fp:\n",
    "                img = Image.open(io.BytesIO(fp.read()))\n",
    "                img_arr = np.array(img)\n",
    "                per_channel_means, per_channel_stds = calculate_mean_and_std(img_arr)\n",
    "                all_per_channel_means.append(per_channel_means)\n",
    "                all_per_channel_stds.append(per_channel_stds)\n",
    "    \n",
    "    estimated_channelwide_means = np.stack(all_per_channel_means).mean(axis=0)\n",
    "    estimated_channelwide_stds = np.stack(all_per_channel_stds).mean(axis=0)\n",
    "    return estimated_channelwide_means, estimated_channelwide_stds"
   ]
  },
  {
   "cell_type": "code",
   "execution_count": 11,
   "metadata": {},
   "outputs": [
    {
     "data": {
      "text/plain": [
       "(array([232.84756982, 210.74896613, 225.09535919]),\n",
       " array([26.53377176, 51.86690271, 34.32865506]))"
      ]
     },
     "execution_count": 11,
     "metadata": {},
     "output_type": "execute_result"
    }
   ],
   "source": [
    "estimate_mean_and_std(OUT_TRAIN)"
   ]
  },
  {
   "cell_type": "code",
   "execution_count": 12,
   "metadata": {},
   "outputs": [],
   "source": [
    "tile_img_tensor_means, tile_img_tensor_stds = _"
   ]
  },
  {
   "cell_type": "code",
   "execution_count": 13,
   "metadata": {},
   "outputs": [
    {
     "data": {
      "text/plain": [
       "(0.5094998779296875, 0.6164023965518571)"
      ]
     },
     "execution_count": 13,
     "metadata": {},
     "output_type": "execute_result"
    }
   ],
   "source": [
    "estimate_mean_and_std(OUT_MASKS)"
   ]
  },
  {
   "cell_type": "code",
   "execution_count": 14,
   "metadata": {},
   "outputs": [],
   "source": [
    "tile_mask_tensor_mean, tile_mask_tensor_std = _"
   ]
  },
  {
   "cell_type": "code",
   "execution_count": 89,
   "metadata": {},
   "outputs": [
    {
     "name": "stdout",
     "output_type": "stream",
     "text": [
      "10616\n",
      "10516\n"
     ]
    }
   ],
   "source": [
    "with zipfile.ZipFile(OUT_TRAIN) as zf_train:\n",
    "    files = [item.filename for item in zf_train.infolist()]\n",
    "    files = [f[:32] for f in files]\n",
    "    files = set(files)\n",
    "    \n",
    "    df = pd.read_csv(LABELS).set_index('image_id')\n",
    "    df = df.loc[files]"
   ]
  },
  {
   "cell_type": "code",
   "execution_count": 90,
   "metadata": {},
   "outputs": [],
   "source": [
    "import io\n",
    "from PIL import Image\n",
    "from torchvision import transforms\n",
    "import pandas as pd\n",
    "import torch\n",
    "from torchvision import transforms\n",
    "from torch.utils.data import Dataset, DataLoader\n",
    "\n",
    "class PandaDataset(Dataset):\n",
    "    def __init__(self):\n",
    "        # NOTE(aleksey): the DataFrame contains 100 entries which are mysteriously absent from\n",
    "        # the train set. Here we filter these out by hand.\n",
    "        with zipfile.ZipFile(OUT_TRAIN) as zf_train:\n",
    "            files = [item.filename for item in zf_train.infolist()]\n",
    "            files = [f[:32] for f in files]\n",
    "            files = set(files)\n",
    "\n",
    "            df = pd.read_csv(LABELS).set_index('image_id')\n",
    "            df = df.loc[files]\n",
    "        self.df = df.reset_index()\n",
    "\n",
    "        self.image_zf = zipfile.ZipFile(OUT_TRAIN)\n",
    "        self.mask_zf = zipfile.ZipFile(OUT_MASKS)\n",
    "\n",
    "    def __len__(self):\n",
    "        return len(self.df)\n",
    "    \n",
    "    def __getitem__(self, idx):\n",
    "        X_id = self.df.iloc[idx, 0]\n",
    "        # The target variable is the isup_score, which is a value 0 through 5.\n",
    "        # The moodel predicts six values per class (a la softmax).\n",
    "        y = torch.tensor(self.df.iloc[idx].isup_grade)\n",
    "        tile_img_tensors, tile_mask_tensors = [], []\n",
    "\n",
    "        for tile_id in range(0, 16):\n",
    "            fd = self.image_zf.open(f\"{X_id}_{tile_id}.png\")\n",
    "            tile_img_bytes = fd.read()\n",
    "            fd.close()\n",
    "            \n",
    "            tile_img = Image.open(io.BytesIO(tile_img_bytes))\n",
    "            tile_img_arr = np.array(tile_img)\n",
    "            tile_img_arr.astype(np.float)\n",
    "            \n",
    "            fd = self.mask_zf.open(f\"{X_id}_{tile_id}.png\")\n",
    "            tile_mask_bytes = fd.read()\n",
    "            fd.close()\n",
    "            \n",
    "            tile_mask = Image.open(io.BytesIO(tile_mask_bytes))\n",
    "            tile_mask_arr = np.array(tile_mask)\n",
    "            \n",
    "            tile_img_tensor = torch.tensor(tile_img_arr, dtype=torch.float).permute(2, 0, 1)\n",
    "            tile_img_tensor = transforms.Normalize(\n",
    "                mean=tile_img_tensor_means, std=tile_img_tensor_stds\n",
    "            )(tile_img_tensor)\n",
    "\n",
    "            tile_mask_tensor = torch.tensor(tile_mask_arr, dtype=torch.float)[np.newaxis, ...]\n",
    "            tile_mask_tensor = transforms.Normalize(\n",
    "                mean=(tile_mask_tensor_mean), std=(tile_mask_tensor_std)\n",
    "            )(tile_mask_tensor)\n",
    "            \n",
    "            tile_img_tensors.append(tile_img_tensor)\n",
    "            tile_mask_tensors.append(tile_mask_tensor)\n",
    "        \n",
    "        return torch.cat(tile_img_tensors, dim=1), torch.cat(tile_img_tensors, dim=1), y"
   ]
  },
  {
   "cell_type": "code",
   "execution_count": 91,
   "metadata": {},
   "outputs": [],
   "source": [
    "ex_dataset = PandaDataset()"
   ]
  },
  {
   "cell_type": "code",
   "execution_count": 92,
   "metadata": {},
   "outputs": [],
   "source": [
    "ex_X_img, ex_X_map, ex_y = ex_dataset[0]"
   ]
  },
  {
   "cell_type": "code",
   "execution_count": 93,
   "metadata": {},
   "outputs": [
    {
     "data": {
      "text/plain": [
       "torch.Size([3, 2048, 128])"
      ]
     },
     "execution_count": 93,
     "metadata": {},
     "output_type": "execute_result"
    }
   ],
   "source": [
    "ex_X_img.shape"
   ]
  },
  {
   "cell_type": "code",
   "execution_count": 94,
   "metadata": {},
   "outputs": [
    {
     "data": {
      "text/plain": [
       "torch.Size([3, 2048, 128])"
      ]
     },
     "execution_count": 94,
     "metadata": {},
     "output_type": "execute_result"
    }
   ],
   "source": [
    "ex_X_map.shape"
   ]
  },
  {
   "cell_type": "code",
   "execution_count": 95,
   "metadata": {},
   "outputs": [
    {
     "data": {
      "text/plain": [
       "tensor(2)"
      ]
     },
     "execution_count": 95,
     "metadata": {},
     "output_type": "execute_result"
    }
   ],
   "source": [
    "ex_y"
   ]
  },
  {
   "cell_type": "code",
   "execution_count": 96,
   "metadata": {},
   "outputs": [
    {
     "data": {
      "text/plain": [
       "(tensor(0.3591), tensor(0.7702), tensor(0.3591), tensor(0.7702))"
      ]
     },
     "execution_count": 96,
     "metadata": {},
     "output_type": "execute_result"
    }
   ],
   "source": [
    "# spot check that the normalization was performed correctly: should be roughly (0, 1)\n",
    "ex_X_img.mean(), ex_X_img.std(), ex_X_map.mean(), ex_X_map.std()"
   ]
  },
  {
   "cell_type": "code",
   "execution_count": 97,
   "metadata": {},
   "outputs": [],
   "source": [
    "ex_dataset = PandaDataset()\n",
    "ex_dataloader = DataLoader(ex_dataset, batch_size=4)"
   ]
  },
  {
   "cell_type": "code",
   "execution_count": 98,
   "metadata": {},
   "outputs": [],
   "source": [
    "ex_X_img_batch, ex_X_map_batch, ex_y_batch = next(iter(ex_dataloader))"
   ]
  },
  {
   "cell_type": "code",
   "execution_count": 99,
   "metadata": {},
   "outputs": [
    {
     "data": {
      "text/plain": [
       "torch.Size([4, 3, 2048, 128])"
      ]
     },
     "execution_count": 99,
     "metadata": {},
     "output_type": "execute_result"
    }
   ],
   "source": [
    "ex_X_img_batch.shape"
   ]
  },
  {
   "cell_type": "code",
   "execution_count": 100,
   "metadata": {},
   "outputs": [
    {
     "data": {
      "text/plain": [
       "torch.Size([4, 3, 2048, 128])"
      ]
     },
     "execution_count": 100,
     "metadata": {},
     "output_type": "execute_result"
    }
   ],
   "source": [
    "ex_X_map_batch.shape"
   ]
  },
  {
   "cell_type": "code",
   "execution_count": 101,
   "metadata": {},
   "outputs": [
    {
     "data": {
      "text/plain": [
       "tensor([2, 1, 5, 2])"
      ]
     },
     "execution_count": 101,
     "metadata": {},
     "output_type": "execute_result"
    }
   ],
   "source": [
    "ex_y_batch"
   ]
  },
  {
   "cell_type": "markdown",
   "metadata": {},
   "source": [
    "## Model"
   ]
  },
  {
   "cell_type": "code",
   "execution_count": 47,
   "metadata": {},
   "outputs": [],
   "source": [
    "import torch\n",
    "import torch.nn as nn\n",
    "import torch.nn.functional as F\n",
    "\n",
    "from fastai.layers import AdaptiveConcatPool2d, Flatten\n",
    "\n",
    "# The model uses a Mish() module as part of its architecture. In the original Kaggle kernel this\n",
    "# is sourced from the mish_activation package. I could not determine the origin of this module,\n",
    "# but inspecting the module in a Kaggle notebook (via import mish_activation; mish_activation??)\n",
    "# reveals that the activation definition is a simple flat file. I've gone ahead and copied that in\n",
    "# here.\n",
    "class MishFunction(torch.autograd.Function):\n",
    "    @staticmethod\n",
    "    def forward(ctx, x):\n",
    "        ctx.save_for_backward(x)\n",
    "        return x * torch.tanh(F.softplus(x))   # x * tanh(ln(1 + exp(x)))\n",
    "\n",
    "    @staticmethod\n",
    "    def backward(ctx, grad_output):\n",
    "        x = ctx.saved_variables[0]\n",
    "        sigmoid = torch.sigmoid(x)\n",
    "        tanh_sp = torch.tanh(F.softplus(x)) \n",
    "        return grad_output * (tanh_sp + x * sigmoid * (1 - tanh_sp * tanh_sp))\n",
    "\n",
    "class Mish(nn.Module):\n",
    "    def forward(self, x):\n",
    "        return MishFunction.apply(x)\n",
    "\n",
    "def to_Mish(model):\n",
    "    for child_name, child in model.named_children():\n",
    "        if isinstance(child, nn.ReLU):\n",
    "            setattr(model, child_name, Mish())\n",
    "        else:\n",
    "            to_Mish(child)\n",
    "\n",
    "class Model(nn.Module):\n",
    "    def __init__(self, arch='resnext50_32x4d_ssl', n=6, pre=True):\n",
    "        super().__init__()\n",
    "        m = torch.hub.load('facebookresearch/semi-supervised-ImageNet1K-models', arch)\n",
    "        self.enc = nn.Sequential(*list(m.children())[:-2])\n",
    "        nc = list(m.children())[-1].in_features\n",
    "        self.head = nn.Sequential(\n",
    "            # TODO: these are fastaia layers. I'd like to replace these with their native PyTorch\n",
    "            # equivalents, but I still need to figure out how to do that.\n",
    "            AdaptiveConcatPool2d(),\n",
    "            Flatten(),\n",
    "            nn.Linear(2 * nc, 512),\n",
    "            Mish(),\n",
    "            nn.BatchNorm1d(512),\n",
    "            nn.Dropout(0.5),\n",
    "            nn.Linear(512, n)\n",
    "        )\n",
    "        \n",
    "    def forward(self, *x):\n",
    "        shape = x[0].shape\n",
    "        n = len(x)\n",
    "        x = torch.stack(x, 1).view(-1, shape[1], shape[2], shape[3])\n",
    "        \n",
    "        #x: bs*N x 3 x 128 x 128\n",
    "        x = self.enc(x)\n",
    "        \n",
    "        #x: bs*N x C x 4 x 4\n",
    "        shape = x.shape\n",
    "        #concatenate the output for tiles into a single map\n",
    "        x = (x.view(-1, n, shape[1], shape[2], shape[3])\n",
    "             .permute(0, 2, 1, 3, 4)\n",
    "             .contiguous()\n",
    "             .view(-1, shape[1], shape[2] * n, shape[3]))\n",
    "\n",
    "        #x: bs x C x N*4 x 4\n",
    "        x = self.head(x)\n",
    "        #x: bs x n\n",
    "        return x"
   ]
  },
  {
   "cell_type": "code",
   "execution_count": 48,
   "metadata": {},
   "outputs": [
    {
     "name": "stderr",
     "output_type": "stream",
     "text": [
      "Using cache found in /root/.cache/torch/hub/facebookresearch_semi-supervised-ImageNet1K-models_master\n"
     ]
    }
   ],
   "source": [
    "ex_model = Model()"
   ]
  },
  {
   "cell_type": "code",
   "execution_count": 60,
   "metadata": {},
   "outputs": [
    {
     "data": {
      "text/plain": [
       "tensor([[-0.0879,  0.3679, -1.2948,  0.1353, -0.0394, -0.8638],\n",
       "        [-0.9323, -0.3921,  0.0689, -1.1447, -0.0942, -1.2651],\n",
       "        [ 0.0562, -0.5561,  0.9980,  0.3616, -1.2837,  2.2569],\n",
       "        [ 1.4795, -0.4642,  0.1538,  0.4405,  0.5324, -0.7102]],\n",
       "       grad_fn=<AddmmBackward>)"
      ]
     },
     "execution_count": 60,
     "metadata": {},
     "output_type": "execute_result"
    }
   ],
   "source": [
    "ex_model(ex_X_img_batch)"
   ]
  },
  {
   "cell_type": "markdown",
   "metadata": {},
   "source": [
    "## Training loop"
   ]
  },
  {
   "cell_type": "code",
   "execution_count": 102,
   "metadata": {},
   "outputs": [
    {
     "name": "stderr",
     "output_type": "stream",
     "text": [
      "Using cache found in /root/.cache/torch/hub/facebookresearch_semi-supervised-ImageNet1K-models_master\n",
      "/usr/local/lib/python3.7/dist-packages/ipykernel_launcher.py:20: DeprecationWarning: 'saved_variables' is deprecated; use 'saved_tensors'\n"
     ]
    },
    {
     "name": "stdout",
     "output_type": "stream",
     "text": [
      "Finished epoch 1, batch 0. Loss: 1.888.\n",
      "Finished epoch 1, batch 10. Loss: 2.396.\n",
      "Finished epoch 1, batch 20. Loss: 2.331.\n",
      "Finished epoch 1, batch 30. Loss: 2.202.\n",
      "Finished epoch 1, batch 40. Loss: 1.977.\n",
      "Finished epoch 1, batch 50. Loss: 1.372.\n",
      "Finished epoch 1, batch 60. Loss: 2.526.\n",
      "Finished epoch 1, batch 70. Loss: 2.161.\n",
      "Finished epoch 1, batch 80. Loss: 1.811.\n",
      "Finished epoch 1, batch 90. Loss: 2.358.\n",
      "Finished epoch 1, batch 100. Loss: 1.949.\n",
      "Finished epoch 1, batch 110. Loss: 1.752.\n",
      "Finished epoch 1, batch 120. Loss: 1.425.\n",
      "Finished epoch 1, batch 130. Loss: 1.983.\n",
      "Finished epoch 1, batch 140. Loss: 1.634.\n",
      "Finished epoch 1, batch 150. Loss: 2.234.\n",
      "Finished epoch 1, batch 160. Loss: 1.184.\n",
      "Finished epoch 1, batch 170. Loss: 1.147.\n",
      "Finished epoch 1, batch 180. Loss: 1.660.\n",
      "Finished epoch 1, batch 190. Loss: 2.502.\n",
      "Finished epoch 1, batch 200. Loss: 1.882.\n",
      "Finished epoch 1, batch 210. Loss: 1.500.\n",
      "Finished epoch 1, batch 220. Loss: 1.877.\n",
      "Finished epoch 1, batch 230. Loss: 1.609.\n",
      "Finished epoch 1, batch 240. Loss: 1.742.\n",
      "Finished epoch 1, batch 250. Loss: 1.878.\n",
      "Finished epoch 1, batch 260. Loss: 1.878.\n",
      "Finished epoch 1, batch 270. Loss: 1.350.\n",
      "Finished epoch 1, batch 280. Loss: 2.150.\n",
      "Finished epoch 1, batch 290. Loss: 2.202.\n",
      "Finished epoch 1, batch 300. Loss: 2.097.\n",
      "Finished epoch 1, batch 310. Loss: 1.425.\n",
      "Finished epoch 1, batch 320. Loss: 2.212.\n",
      "Finished epoch 1, batch 330. Loss: 1.463.\n",
      "Finished epoch 1, batch 340. Loss: 1.438.\n",
      "Finished epoch 1, batch 350. Loss: 2.693.\n",
      "Finished epoch 1, batch 360. Loss: 1.996.\n",
      "Finished epoch 1, batch 370. Loss: 1.803.\n",
      "Finished epoch 1, batch 380. Loss: 1.456.\n",
      "Finished epoch 1, batch 390. Loss: 1.699.\n",
      "Finished epoch 1, batch 400. Loss: 2.289.\n",
      "Finished epoch 1, batch 410. Loss: 2.125.\n",
      "Finished epoch 1, batch 420. Loss: 1.609.\n",
      "Finished epoch 1, batch 430. Loss: 1.364.\n",
      "Finished epoch 1, batch 440. Loss: 1.822.\n",
      "Finished epoch 1, batch 450. Loss: 1.911.\n",
      "Finished epoch 1, batch 460. Loss: 1.977.\n",
      "Finished epoch 1, batch 470. Loss: 1.823.\n",
      "Finished epoch 1, batch 480. Loss: 2.727.\n",
      "Finished epoch 1, batch 490. Loss: 2.143.\n",
      "Finished epoch 1, batch 500. Loss: 2.299.\n",
      "Finished epoch 1, batch 510. Loss: 2.200.\n",
      "Finished epoch 1, batch 520. Loss: 2.233.\n",
      "Finished epoch 1, batch 530. Loss: 1.255.\n",
      "Finished epoch 1, batch 540. Loss: 1.708.\n",
      "Finished epoch 1, batch 550. Loss: 1.793.\n",
      "Finished epoch 1, batch 560. Loss: 1.890.\n",
      "Finished epoch 1, batch 570. Loss: 1.510.\n",
      "Finished epoch 1, batch 580. Loss: 1.768.\n",
      "Finished epoch 1, batch 590. Loss: 1.959.\n",
      "Finished epoch 1, batch 600. Loss: 1.239.\n",
      "Finished epoch 1, batch 610. Loss: 1.706.\n",
      "Finished epoch 1, batch 620. Loss: 1.945.\n",
      "Finished epoch 1, batch 630. Loss: 1.610.\n",
      "Finished epoch 1, batch 640. Loss: 1.091.\n",
      "Finished epoch 1, batch 650. Loss: 1.950.\n",
      "Finished epoch 1, batch 660. Loss: 1.999.\n",
      "Finished epoch 1, batch 670. Loss: 1.852.\n",
      "Finished epoch 1, batch 680. Loss: 2.082.\n",
      "Finished epoch 1, batch 690. Loss: 1.861.\n",
      "Finished epoch 1, batch 700. Loss: 1.912.\n",
      "Finished epoch 1, batch 710. Loss: 1.998.\n",
      "Finished epoch 1, batch 720. Loss: 2.091.\n",
      "Finished epoch 1, batch 730. Loss: 1.739.\n",
      "Finished epoch 1, batch 740. Loss: 1.559.\n",
      "Finished epoch 1, batch 750. Loss: 1.830.\n",
      "Finished epoch 1, batch 760. Loss: 1.577.\n",
      "Finished epoch 1, batch 770. Loss: 2.485.\n",
      "Finished epoch 1, batch 780. Loss: 1.690.\n",
      "Finished epoch 1, batch 790. Loss: 3.049.\n",
      "Finished epoch 1, batch 800. Loss: 2.052.\n",
      "Finished epoch 1, batch 810. Loss: 2.343.\n",
      "Finished epoch 1, batch 820. Loss: 2.019.\n",
      "Finished epoch 1, batch 830. Loss: 1.394.\n",
      "Finished epoch 1, batch 840. Loss: 1.548.\n",
      "Finished epoch 1, batch 850. Loss: 2.078.\n",
      "Finished epoch 1, batch 860. Loss: 2.233.\n",
      "Finished epoch 1, batch 870. Loss: 2.266.\n",
      "Finished epoch 1, batch 880. Loss: 1.977.\n",
      "Finished epoch 1, batch 890. Loss: 1.689.\n",
      "Finished epoch 1, batch 900. Loss: 1.992.\n",
      "Finished epoch 1, batch 910. Loss: 2.250.\n",
      "Finished epoch 1, batch 920. Loss: 1.714.\n",
      "Finished epoch 1, batch 930. Loss: 1.644.\n",
      "Finished epoch 1, batch 940. Loss: 1.571.\n",
      "Finished epoch 1, batch 950. Loss: 1.428.\n",
      "Finished epoch 1, batch 960. Loss: 2.327.\n",
      "Finished epoch 1, batch 970. Loss: 1.413.\n",
      "Finished epoch 1, batch 980. Loss: 2.540.\n",
      "Finished epoch 1, batch 990. Loss: 1.530.\n",
      "Finished epoch 1, batch 1000. Loss: 1.505.\n",
      "Finished epoch 1, batch 1010. Loss: 1.619.\n",
      "Finished epoch 1, batch 1020. Loss: 1.804.\n",
      "Finished epoch 1, batch 1030. Loss: 1.896.\n",
      "Finished epoch 1, batch 1040. Loss: 1.644.\n",
      "Finished epoch 1, batch 1050. Loss: 1.181.\n",
      "Finished epoch 1, batch 1060. Loss: 2.008.\n",
      "Finished epoch 1, batch 1070. Loss: 2.200.\n",
      "Finished epoch 1, batch 1080. Loss: 1.188.\n",
      "Finished epoch 1, batch 1090. Loss: 1.716.\n",
      "Finished epoch 1, batch 1100. Loss: 2.104.\n",
      "Finished epoch 1, batch 1110. Loss: 1.779.\n",
      "Finished epoch 1, batch 1120. Loss: 2.000.\n",
      "Finished epoch 1, batch 1130. Loss: 1.879.\n",
      "Finished epoch 1, batch 1140. Loss: 1.559.\n",
      "Finished epoch 1, batch 1150. Loss: 2.448.\n",
      "Finished epoch 1, batch 1160. Loss: 1.993.\n",
      "Finished epoch 1, batch 1170. Loss: 1.705.\n",
      "Finished epoch 1, batch 1180. Loss: 1.740.\n",
      "Finished epoch 1, batch 1190. Loss: 1.439.\n",
      "Finished epoch 1, batch 1200. Loss: 1.522.\n",
      "Finished epoch 1, batch 1210. Loss: 2.875.\n",
      "Finished epoch 1, batch 1220. Loss: 1.567.\n",
      "Finished epoch 1, batch 1230. Loss: 1.696.\n",
      "Finished epoch 1, batch 1240. Loss: 1.881.\n",
      "Finished epoch 1, batch 1250. Loss: 1.229.\n",
      "Finished epoch 1, batch 1260. Loss: 1.253.\n",
      "Finished epoch 1, batch 1270. Loss: 1.576.\n",
      "Finished epoch 1, batch 1280. Loss: 1.807.\n",
      "Finished epoch 1, batch 1290. Loss: 2.686.\n",
      "Finished epoch 1, batch 1300. Loss: 1.562.\n",
      "Finished epoch 1, batch 1310. Loss: 1.480.\n",
      "Finished epoch 1, batch 1320. Loss: 1.888.\n",
      "Finished epoch 1, batch 1330. Loss: 1.810.\n",
      "Finished epoch 1, batch 1340. Loss: 1.936.\n",
      "Finished epoch 1, batch 1350. Loss: 1.528.\n",
      "Finished epoch 1, batch 1360. Loss: 1.168.\n",
      "Finished epoch 1, batch 1370. Loss: 1.522.\n",
      "Finished epoch 1, batch 1380. Loss: 2.015.\n",
      "Finished epoch 1, batch 1390. Loss: 1.968.\n",
      "Finished epoch 1, batch 1400. Loss: 1.647.\n",
      "Finished epoch 1, batch 1410. Loss: 1.973.\n",
      "Finished epoch 1, batch 1420. Loss: 1.344.\n",
      "Finished epoch 1, batch 1430. Loss: 1.910.\n",
      "Finished epoch 1, batch 1440. Loss: 1.725.\n"
     ]
    },
    {
     "ename": "KeyboardInterrupt",
     "evalue": "",
     "output_type": "error",
     "traceback": [
      "\u001b[0;31m---------------------------------------------------------------------------\u001b[0m",
      "\u001b[0;31mKeyboardInterrupt\u001b[0m                         Traceback (most recent call last)",
      "\u001b[0;32m<ipython-input-102-796bf3165571>\u001b[0m in \u001b[0;36m<module>\u001b[0;34m\u001b[0m\n\u001b[1;32m     25\u001b[0m         \u001b[0mloss\u001b[0m \u001b[0;34m=\u001b[0m \u001b[0mcriterion\u001b[0m\u001b[0;34m(\u001b[0m\u001b[0mX_pred\u001b[0m\u001b[0;34m,\u001b[0m \u001b[0my\u001b[0m\u001b[0;34m)\u001b[0m\u001b[0;34m\u001b[0m\u001b[0;34m\u001b[0m\u001b[0m\n\u001b[1;32m     26\u001b[0m         \u001b[0mloss\u001b[0m\u001b[0;34m.\u001b[0m\u001b[0mbackward\u001b[0m\u001b[0;34m(\u001b[0m\u001b[0;34m)\u001b[0m\u001b[0;34m\u001b[0m\u001b[0;34m\u001b[0m\u001b[0m\n\u001b[0;32m---> 27\u001b[0;31m         \u001b[0moptimizer\u001b[0m\u001b[0;34m.\u001b[0m\u001b[0mstep\u001b[0m\u001b[0;34m(\u001b[0m\u001b[0;34m)\u001b[0m\u001b[0;34m\u001b[0m\u001b[0;34m\u001b[0m\u001b[0m\n\u001b[0m\u001b[1;32m     28\u001b[0m \u001b[0;34m\u001b[0m\u001b[0m\n\u001b[1;32m     29\u001b[0m         \u001b[0mcurr_loss\u001b[0m \u001b[0;34m=\u001b[0m \u001b[0mloss\u001b[0m\u001b[0;34m.\u001b[0m\u001b[0mitem\u001b[0m\u001b[0;34m(\u001b[0m\u001b[0;34m)\u001b[0m\u001b[0;34m\u001b[0m\u001b[0;34m\u001b[0m\u001b[0m\n",
      "\u001b[0;32m/usr/local/lib/python3.7/dist-packages/torch/autograd/grad_mode.py\u001b[0m in \u001b[0;36mdecorate_context\u001b[0;34m(*args, **kwargs)\u001b[0m\n\u001b[1;32m     24\u001b[0m         \u001b[0;32mdef\u001b[0m \u001b[0mdecorate_context\u001b[0m\u001b[0;34m(\u001b[0m\u001b[0;34m*\u001b[0m\u001b[0margs\u001b[0m\u001b[0;34m,\u001b[0m \u001b[0;34m**\u001b[0m\u001b[0mkwargs\u001b[0m\u001b[0;34m)\u001b[0m\u001b[0;34m:\u001b[0m\u001b[0;34m\u001b[0m\u001b[0;34m\u001b[0m\u001b[0m\n\u001b[1;32m     25\u001b[0m             \u001b[0;32mwith\u001b[0m \u001b[0mself\u001b[0m\u001b[0;34m.\u001b[0m\u001b[0m__class__\u001b[0m\u001b[0;34m(\u001b[0m\u001b[0;34m)\u001b[0m\u001b[0;34m:\u001b[0m\u001b[0;34m\u001b[0m\u001b[0;34m\u001b[0m\u001b[0m\n\u001b[0;32m---> 26\u001b[0;31m                 \u001b[0;32mreturn\u001b[0m \u001b[0mfunc\u001b[0m\u001b[0;34m(\u001b[0m\u001b[0;34m*\u001b[0m\u001b[0margs\u001b[0m\u001b[0;34m,\u001b[0m \u001b[0;34m**\u001b[0m\u001b[0mkwargs\u001b[0m\u001b[0;34m)\u001b[0m\u001b[0;34m\u001b[0m\u001b[0;34m\u001b[0m\u001b[0m\n\u001b[0m\u001b[1;32m     27\u001b[0m         \u001b[0;32mreturn\u001b[0m \u001b[0mcast\u001b[0m\u001b[0;34m(\u001b[0m\u001b[0mF\u001b[0m\u001b[0;34m,\u001b[0m \u001b[0mdecorate_context\u001b[0m\u001b[0;34m)\u001b[0m\u001b[0;34m\u001b[0m\u001b[0;34m\u001b[0m\u001b[0m\n\u001b[1;32m     28\u001b[0m \u001b[0;34m\u001b[0m\u001b[0m\n",
      "\u001b[0;32m/usr/local/lib/python3.7/dist-packages/torch/optim/adam.py\u001b[0m in \u001b[0;36mstep\u001b[0;34m(self, closure)\u001b[0m\n\u001b[1;32m    117\u001b[0m                    \u001b[0mgroup\u001b[0m\u001b[0;34m[\u001b[0m\u001b[0;34m'lr'\u001b[0m\u001b[0;34m]\u001b[0m\u001b[0;34m,\u001b[0m\u001b[0;34m\u001b[0m\u001b[0;34m\u001b[0m\u001b[0m\n\u001b[1;32m    118\u001b[0m                    \u001b[0mgroup\u001b[0m\u001b[0;34m[\u001b[0m\u001b[0;34m'weight_decay'\u001b[0m\u001b[0;34m]\u001b[0m\u001b[0;34m,\u001b[0m\u001b[0;34m\u001b[0m\u001b[0;34m\u001b[0m\u001b[0m\n\u001b[0;32m--> 119\u001b[0;31m                    \u001b[0mgroup\u001b[0m\u001b[0;34m[\u001b[0m\u001b[0;34m'eps'\u001b[0m\u001b[0;34m]\u001b[0m\u001b[0;34m\u001b[0m\u001b[0;34m\u001b[0m\u001b[0m\n\u001b[0m\u001b[1;32m    120\u001b[0m                    )\n\u001b[1;32m    121\u001b[0m         \u001b[0;32mreturn\u001b[0m \u001b[0mloss\u001b[0m\u001b[0;34m\u001b[0m\u001b[0;34m\u001b[0m\u001b[0m\n",
      "\u001b[0;32m/usr/local/lib/python3.7/dist-packages/torch/optim/functional.py\u001b[0m in \u001b[0;36madam\u001b[0;34m(params, grads, exp_avgs, exp_avg_sqs, max_exp_avg_sqs, state_steps, amsgrad, beta1, beta2, lr, weight_decay, eps)\u001b[0m\n\u001b[1;32m     85\u001b[0m         \u001b[0;31m# Decay the first and second moment running average coefficient\u001b[0m\u001b[0;34m\u001b[0m\u001b[0;34m\u001b[0m\u001b[0;34m\u001b[0m\u001b[0m\n\u001b[1;32m     86\u001b[0m         \u001b[0mexp_avg\u001b[0m\u001b[0;34m.\u001b[0m\u001b[0mmul_\u001b[0m\u001b[0;34m(\u001b[0m\u001b[0mbeta1\u001b[0m\u001b[0;34m)\u001b[0m\u001b[0;34m.\u001b[0m\u001b[0madd_\u001b[0m\u001b[0;34m(\u001b[0m\u001b[0mgrad\u001b[0m\u001b[0;34m,\u001b[0m \u001b[0malpha\u001b[0m\u001b[0;34m=\u001b[0m\u001b[0;36m1\u001b[0m \u001b[0;34m-\u001b[0m \u001b[0mbeta1\u001b[0m\u001b[0;34m)\u001b[0m\u001b[0;34m\u001b[0m\u001b[0;34m\u001b[0m\u001b[0m\n\u001b[0;32m---> 87\u001b[0;31m         \u001b[0mexp_avg_sq\u001b[0m\u001b[0;34m.\u001b[0m\u001b[0mmul_\u001b[0m\u001b[0;34m(\u001b[0m\u001b[0mbeta2\u001b[0m\u001b[0;34m)\u001b[0m\u001b[0;34m.\u001b[0m\u001b[0maddcmul_\u001b[0m\u001b[0;34m(\u001b[0m\u001b[0mgrad\u001b[0m\u001b[0;34m,\u001b[0m \u001b[0mgrad\u001b[0m\u001b[0;34m,\u001b[0m \u001b[0mvalue\u001b[0m\u001b[0;34m=\u001b[0m\u001b[0;36m1\u001b[0m \u001b[0;34m-\u001b[0m \u001b[0mbeta2\u001b[0m\u001b[0;34m)\u001b[0m\u001b[0;34m\u001b[0m\u001b[0;34m\u001b[0m\u001b[0m\n\u001b[0m\u001b[1;32m     88\u001b[0m         \u001b[0;32mif\u001b[0m \u001b[0mamsgrad\u001b[0m\u001b[0;34m:\u001b[0m\u001b[0;34m\u001b[0m\u001b[0;34m\u001b[0m\u001b[0m\n\u001b[1;32m     89\u001b[0m             \u001b[0;31m# Maintains the maximum of all 2nd moment running avg. till now\u001b[0m\u001b[0;34m\u001b[0m\u001b[0;34m\u001b[0m\u001b[0;34m\u001b[0m\u001b[0m\n",
      "\u001b[0;31mKeyboardInterrupt\u001b[0m: "
     ]
    }
   ],
   "source": [
    "from torch import optim\n",
    "# from torch.utils.tensorboard import SummaryWriter\n",
    "# writer = SummaryWriter(f'/spell/tensorboards/model_1')\n",
    "\n",
    "NUM_EPOCHS = 1\n",
    "\n",
    "model = Model()\n",
    "model.cuda()\n",
    "\n",
    "optimizer = optim.Adam(model.parameters())\n",
    "criterion = nn.CrossEntropyLoss()\n",
    "dataset = PandaDataset()\n",
    "dataloader = DataLoader(dataset, batch_size=4)\n",
    "\n",
    "for epoch in range(1, NUM_EPOCHS + 1):\n",
    "    losses = []\n",
    "\n",
    "    for i, (X, _, y) in enumerate(iter(dataloader)):\n",
    "        optimizer.zero_grad()\n",
    "\n",
    "        X = X.cuda()\n",
    "        y = y.cuda()\n",
    "\n",
    "        X_pred = model(X)\n",
    "        loss = criterion(X_pred, y)\n",
    "        loss.backward()\n",
    "        optimizer.step()\n",
    "\n",
    "        curr_loss = loss.item()\n",
    "        if i % 10 == 0:\n",
    "            print(\n",
    "                f'Finished epoch {epoch}, batch {i}. Loss: {curr_loss:.3f}.'\n",
    "            )\n",
    "\n",
    "        # writer.add_scalar(\n",
    "        #     'training loss', curr_loss, epoch * len(dataloader) + i\n",
    "        # )\n",
    "        losses.append(curr_loss)\n",
    "\n",
    "    print(\n",
    "        f'Finished epoch {epoch}. '\n",
    "        f'avg loss: {np.mean(losses)}; median loss: {np.min(losses)}'\n",
    "    )\n",
    "    if not os.path.exists('/spell/checkpoints/'):\n",
    "        os.mkdir('/spell/checkpoints/')\n",
    "    torch.save(model.state_dict(), f'/spell/checkpoints/model_{epoch}.pth')"
   ]
  },
  {
   "cell_type": "code",
   "execution_count": 103,
   "metadata": {},
   "outputs": [],
   "source": [
    "!mkdir ../models/"
   ]
  },
  {
   "cell_type": "code",
   "execution_count": 21,
   "metadata": {},
   "outputs": [],
   "source": [
    "# import pandas as pd\n",
    "# test_df = pd.DataFrame({'a': [1, 2, 3], 'b': [4, 5, 6]})\n",
    "# test_df_1 = test_df.sample(3 // 2)\n",
    "# test_df.loc[test_df.index.difference(test_df_1.index)]"
   ]
  },
  {
   "cell_type": "code",
   "execution_count": 34,
   "metadata": {},
   "outputs": [
    {
     "name": "stdout",
     "output_type": "stream",
     "text": [
      "Overwriting ../models/model_1.py\n"
     ]
    }
   ],
   "source": [
    "%%writefile ../models/model_1.py\n",
    "\"\"\"\n",
    "Initial model definition.\n",
    "\"\"\"\n",
    "\n",
    "import torch\n",
    "import torch.nn as nn\n",
    "import torch.nn.functional as F\n",
    "from torch import optim\n",
    "from torch.utils.tensorboard import SummaryWriter\n",
    "\n",
    "from fastai.layers import AdaptiveConcatPool2d, Flatten\n",
    "from torchvision import transforms\n",
    "from torch.utils.data import Dataset, DataLoader\n",
    "from torchvision import transforms\n",
    "\n",
    "from tqdm import tqdm\n",
    "import numpy as np\n",
    "import pandas as pd\n",
    "from PIL import Image\n",
    "\n",
    "import os\n",
    "import io\n",
    "import zipfile\n",
    "\n",
    "\n",
    "LABELS = '/mnt/prostate-cancer-grade-assessment/train.csv'\n",
    "OUT_TRAIN = '/mnt/prostate-cancer-grade-assessment/train.zip'\n",
    "OUT_MASKS = '/mnt/prostate-cancer-grade-assessment/masks.zip'\n",
    "NUM_EPOCHS = 16\n",
    "BATCH_SIZE = 16\n",
    "TRAIN_TEST_SPLIT = 0.8\n",
    "\n",
    "\n",
    "##############\n",
    "# DATALOADER #\n",
    "##############\n",
    "\n",
    "def get_train_test_split():\n",
    "    # NOTE(aleksey): the DataFrame contains 100 entries which are mysteriously absent from\n",
    "    # the train set. Here we filter these out here.\n",
    "    with zipfile.ZipFile(OUT_TRAIN) as zf_train:\n",
    "        files = [item.filename for item in zf_train.infolist()]\n",
    "        files = [f[:32] for f in files]\n",
    "        files = set(files)\n",
    "\n",
    "        df = pd.read_csv(LABELS).set_index('image_id')\n",
    "        df = df.loc[files]\n",
    "    df = df.reset_index()\n",
    "    train_df = df.sample(round(len(df) * TRAIN_TEST_SPLIT))\n",
    "    test_df = df.loc[df.index.difference(train_df.index)]\n",
    "    return train_df, test_df\n",
    "\n",
    "\n",
    "class PandaDataset(Dataset):\n",
    "    def __init__(self, df):\n",
    "        self.df = df\n",
    "        self.image_zf = zipfile.ZipFile(OUT_TRAIN)\n",
    "        self.mask_zf = zipfile.ZipFile(OUT_MASKS)\n",
    "\n",
    "    def __len__(self):\n",
    "        return len(self.df)\n",
    "    \n",
    "    def __getitem__(self, idx):\n",
    "        X_id = self.df.iloc[idx, 0]\n",
    "        # The target variable is the isup_score, which is a value 0 through 5.\n",
    "        # The moodel predicts six values per class (a la softmax).\n",
    "        y = torch.tensor(self.df.iloc[idx].isup_grade)\n",
    "        tile_img_tensors, tile_mask_tensors = [], []\n",
    "\n",
    "        for tile_id in range(0, 16):\n",
    "            fd = self.image_zf.open(f\"{X_id}_{tile_id}.png\")\n",
    "            tile_img_bytes = fd.read()\n",
    "            fd.close()\n",
    "            \n",
    "            tile_img = Image.open(io.BytesIO(tile_img_bytes))\n",
    "            tile_img_arr = np.array(tile_img)\n",
    "            tile_img_arr.astype(np.float)\n",
    "            \n",
    "            fd = self.mask_zf.open(f\"{X_id}_{tile_id}.png\")\n",
    "            tile_mask_bytes = fd.read()\n",
    "            fd.close()\n",
    "            \n",
    "            tile_mask = Image.open(io.BytesIO(tile_mask_bytes))\n",
    "            tile_mask_arr = np.array(tile_mask)\n",
    "            \n",
    "            tile_img_tensor = torch.tensor(tile_img_arr, dtype=torch.float).permute(2, 0, 1)\n",
    "            tile_img_tensor = transforms.Normalize(\n",
    "                mean=tile_img_tensor_means, std=tile_img_tensor_stds\n",
    "            )(tile_img_tensor)\n",
    "\n",
    "            tile_mask_tensor = torch.tensor(tile_mask_arr, dtype=torch.float)[np.newaxis, ...]\n",
    "            tile_mask_tensor = transforms.Normalize(\n",
    "                mean=(tile_mask_tensor_mean), std=(tile_mask_tensor_std)\n",
    "            )(tile_mask_tensor)\n",
    "            \n",
    "            tile_img_tensors.append(tile_img_tensor)\n",
    "            tile_mask_tensors.append(tile_mask_tensor)\n",
    "        \n",
    "        return torch.cat(tile_img_tensors, dim=1), torch.cat(tile_img_tensors, dim=1), y\n",
    "\n",
    "\n",
    "#########\n",
    "# MODEL #\n",
    "#########\n",
    "\n",
    "# NOTE(aleksey): these magic values are used by torchvision.transforms.Normalize.\n",
    "def estimate_mean_and_std(zf_path, n_samples=1000):\n",
    "    def calculate_mean_and_std(img_arr):\n",
    "        return np.mean(img_arr, axis=(0, 1)), np.std(img_arr, axis=(0, 1))\n",
    "\n",
    "    all_per_channel_means = []\n",
    "    all_per_channel_stds = []\n",
    "    \n",
    "    with zipfile.ZipFile(zf_path) as zf:\n",
    "        for img_info in np.random.choice(zf.infolist(), n_samples):\n",
    "            img_fn = img_info.filename\n",
    "            with zf.open(img_fn) as fp:\n",
    "                img = Image.open(io.BytesIO(fp.read()))\n",
    "                img_arr = np.array(img)\n",
    "                per_channel_means, per_channel_stds = calculate_mean_and_std(img_arr)\n",
    "                all_per_channel_means.append(per_channel_means)\n",
    "                all_per_channel_stds.append(per_channel_stds)\n",
    "    \n",
    "    estimated_channelwide_means = np.stack(all_per_channel_means).mean(axis=0)\n",
    "    estimated_channelwide_stds = np.stack(all_per_channel_stds).mean(axis=0)\n",
    "    return estimated_channelwide_means, estimated_channelwide_stds\n",
    "\n",
    "tile_img_tensor_means, tile_img_tensor_stds = estimate_mean_and_std(OUT_TRAIN)\n",
    "tile_mask_tensor_mean, tile_mask_tensor_std = estimate_mean_and_std(OUT_MASKS)\n",
    "\n",
    "# NOTE(aleksey): the model uses a Mish() module as part of its architecture. In the original\n",
    "# Kaggle kernel this model is sourced from the mish_activation package. I could not determine\n",
    "# the origin of this module, but inspecting the module in a Kaggle notebook (via import\n",
    "# mish_activation; mish_activation??) reveals that the activation definition is a simple flat\n",
    "# file. I've gone ahead and copied that to here.\n",
    "class MishFunction(torch.autograd.Function):\n",
    "    @staticmethod\n",
    "    def forward(ctx, x):\n",
    "        ctx.save_for_backward(x)\n",
    "        return x * torch.tanh(F.softplus(x))   # x * tanh(ln(1 + exp(x)))\n",
    "\n",
    "    @staticmethod\n",
    "    def backward(ctx, grad_output):\n",
    "        x = ctx.saved_variables[0]\n",
    "        sigmoid = torch.sigmoid(x)\n",
    "        tanh_sp = torch.tanh(F.softplus(x)) \n",
    "        return grad_output * (tanh_sp + x * sigmoid * (1 - tanh_sp * tanh_sp))\n",
    "\n",
    "class Mish(nn.Module):\n",
    "    def forward(self, x):\n",
    "        return MishFunction.apply(x)\n",
    "\n",
    "def to_Mish(model):\n",
    "    for child_name, child in model.named_children():\n",
    "        if isinstance(child, nn.ReLU):\n",
    "            setattr(model, child_name, Mish())\n",
    "        else:\n",
    "            to_Mish(child)\n",
    "\n",
    "\n",
    "class PandaModel(nn.Module):\n",
    "    # NOTE(aleksey): n=6 because the value we are trying to predict is an ordinal categorical\n",
    "    # with 6 possible values.\n",
    "    def __init__(self, arch='resnext50_32x4d_ssl', n=6, pre=True):\n",
    "        super().__init__()\n",
    "        m = torch.hub.load('facebookresearch/semi-supervised-ImageNet1K-models', arch)\n",
    "        self.enc = nn.Sequential(*list(m.children())[:-2])\n",
    "        nc = list(m.children())[-1].in_features\n",
    "        self.head = nn.Sequential(\n",
    "            # TODO: replace these fastaia layers with torch ones\n",
    "            AdaptiveConcatPool2d(),\n",
    "            Flatten(),\n",
    "            nn.Linear(2 * nc, 512),\n",
    "            Mish(),\n",
    "            nn.BatchNorm1d(512),\n",
    "            nn.Dropout(0.5),\n",
    "            nn.Linear(512, n)\n",
    "        )\n",
    "        \n",
    "    def forward(self, *x):\n",
    "        shape = x[0].shape\n",
    "        n = len(x)\n",
    "        x = torch.stack(x, 1).view(-1, shape[1], shape[2], shape[3])\n",
    "        \n",
    "        #x: bs*N x 3 x 128 x 128\n",
    "        x = self.enc(x)\n",
    "        \n",
    "        #x: bs*N x C x 4 x 4\n",
    "        shape = x.shape\n",
    "        #concatenate the output for tiles into a single map\n",
    "        x = (x.view(-1, n, shape[1], shape[2], shape[3])\n",
    "             .permute(0, 2, 1, 3, 4)\n",
    "             .contiguous()\n",
    "             .view(-1, shape[1], shape[2] * n, shape[3]))\n",
    "\n",
    "        #x: bs x C x N*4 x 4\n",
    "        x = self.head(x)\n",
    "        #x: bs x n\n",
    "        return x\n",
    "\n",
    "\n",
    "#################\n",
    "# TRAINING LOOP #\n",
    "#################\n",
    "\n",
    "writer = SummaryWriter(f'/spell/tensorboards/model_1')\n",
    "\n",
    "train_df, test_df = get_train_test_split()\n",
    "train_dataset, test_dataset = PandaDataset(train_df), PandaDataset(test_df)\n",
    "train_dataloader = DataLoader(train_dataset, batch_size=BATCH_SIZE)\n",
    "test_dataloader = DataLoader(test_dataset, batch_size=BATCH_SIZE)\n",
    "\n",
    "model = PandaModel()\n",
    "model.cuda()\n",
    "optimizer = optim.Adam(model.parameters())\n",
    "criterion = nn.CrossEntropyLoss()\n",
    "\n",
    "for epoch in range(1, NUM_EPOCHS + 1):\n",
    "    # train\n",
    "    losses = []\n",
    "    model.train()\n",
    "    \n",
    "    for i, (X, _, y) in enumerate(iter(train_dataloader)):\n",
    "        optimizer.zero_grad()\n",
    "\n",
    "        X = X.cuda()\n",
    "        y = y.cuda()\n",
    "\n",
    "        X_pred = model(X)\n",
    "        loss = criterion(X_pred, y)\n",
    "        loss.backward()\n",
    "        optimizer.step()\n",
    "\n",
    "        curr_loss = loss.item()\n",
    "        if i % 10 == 0:\n",
    "            print(\n",
    "                f'Finished training epoch {epoch}, batch {i}. Loss: {curr_loss:.3f}.'\n",
    "            )\n",
    "\n",
    "        writer.add_scalar(\n",
    "            'training loss', curr_loss, epoch * len(train_dataloader) + i\n",
    "        )\n",
    "        losses.append(curr_loss)\n",
    "\n",
    "    print(\n",
    "        f'Finished training epoch {epoch}. '\n",
    "        f'avg loss: {np.mean(losses)}; median loss: {np.min(losses)}'\n",
    "    )\n",
    "    \n",
    "    if not os.path.exists('/spell/checkpoints/'):\n",
    "        os.mkdir('/spell/checkpoints/')\n",
    "    torch.save(model.state_dict(), f'/spell/checkpoints/model_{epoch}.pth')\n",
    "    \n",
    "    # validation\n",
    "    losses = []\n",
    "    model.eval()\n",
    "    \n",
    "    with torch.no_grad():\n",
    "        for i, (X, _, y) in enumerate(iter(test_dataloader)):\n",
    "            X = X.cuda()\n",
    "            y = y.cuda()\n",
    "            \n",
    "            X_pred = model(X)\n",
    "            loss = criterion(X_pred, y)\n",
    "            curr_loss = loss.item()\n",
    "            if i % 10 == 0:\n",
    "                print(\n",
    "                    f'Finished eval epoch {epoch}, batch {i}. Loss: {curr_loss:.3f}.'\n",
    "                )\n",
    "            losses.append(curr_loss)\n",
    "\n",
    "        print(\n",
    "            f'Finished eval epoch {epoch}. '\n",
    "            f'avg loss: {np.mean(losses)}; median loss: {np.min(losses)}'\n",
    "        )\n",
    "        writer.add_scalar(\n",
    "            'mean val loss', np.mean(losses), epoch + 1\n",
    "        )"
   ]
  },
  {
   "cell_type": "code",
   "execution_count": 109,
   "metadata": {},
   "outputs": [
    {
     "name": "stdout",
     "output_type": "stream",
     "text": [
      "Overwriting ../.gitignore\n"
     ]
    }
   ],
   "source": [
    "%%writefile ../.gitignore\n",
    "*.zip\n",
    ".ipynb_checkpoints/\n",
    "*.csv"
   ]
  },
  {
   "cell_type": "code",
   "execution_count": 108,
   "metadata": {},
   "outputs": [],
   "source": [
    "# !cp /mnt/prostate-cancer-grade-assessment/train.csv /spell/datasets/working/train.csv"
   ]
  },
  {
   "cell_type": "code",
   "execution_count": 33,
   "metadata": {},
   "outputs": [
    {
     "name": "stdout",
     "output_type": "stream",
     "text": [
      "\u001b[0m💫 Casting spell #551…\n",
      "\u001b[0m✨ Stop viewing logs with ^C\n",
      "\u001b[0m^C\n",
      "\n",
      "\u001b[0m✨ Your run is still running remotely.\n",
      "\u001b[0m✨ Use 'spell kill 551' to terminate your run\n",
      "\u001b[0m✨ Use 'spell logs 551' to view logs again\n",
      "\u001b[0m\u001b[0m"
     ]
    }
   ],
   "source": [
    "!spell run \\\n",
    "    --machine-type v100 \\\n",
    "    --github-url https://github.com/ResidentMario/resnext50-panda.git \\\n",
    "    --mount uploads/panda/train.zip:/mnt/prostate-cancer-grade-assessment/train.zip \\\n",
    "    --mount uploads/panda/masks.zip:/mnt/prostate-cancer-grade-assessment/masks.zip \\\n",
    "    --mount uploads/panda/train.csv:/mnt/prostate-cancer-grade-assessment/train.csv \\\n",
    "    --pip fastai --pip tqdm \\\n",
    "    --tensorboard-dir /spell/tensorboards/model_1/ \\\n",
    "    python models/model_1.py"
   ]
  }
 ],
 "metadata": {
  "kernelspec": {
   "display_name": "Python 3",
   "language": "python",
   "name": "python3"
  },
  "language_info": {
   "codemirror_mode": {
    "name": "ipython",
    "version": 3
   },
   "file_extension": ".py",
   "mimetype": "text/x-python",
   "name": "python",
   "nbconvert_exporter": "python",
   "pygments_lexer": "ipython3",
   "version": "3.7.9"
  }
 },
 "nbformat": 4,
 "nbformat_minor": 4
}
