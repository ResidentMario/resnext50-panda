{
 "cells": [
  {
   "cell_type": "code",
   "execution_count": 3,
   "metadata": {},
   "outputs": [
    {
     "name": "stdout",
     "output_type": "stream",
     "text": [
      "usage: kaggle competitions download [-h] [-f FILE_NAME] [-p PATH] [-w] [-o]\n",
      "                                    [-q]\n",
      "                                    [competition]\n",
      "\n",
      "optional arguments:\n",
      "  -h, --help            show this help message and exit\n",
      "  competition           Competition URL suffix (use \"kaggle competitions list\" to show options)\n",
      "                        If empty, the default competition will be used (use \"kaggle config set competition\")\"\n",
      "  -f FILE_NAME, --file FILE_NAME\n",
      "                        File name, all files downloaded if not provided\n",
      "                        (use \"kaggle competitions files -c <competition>\" to show options)\n",
      "  -p PATH, --path PATH  Folder where file(s) will be downloaded, defaults to current working directory\n",
      "  -w, --wp              Download files to current working path\n",
      "  -o, --force           Skip check whether local version of file is up to date, force file download\n",
      "  -q, --quiet           Suppress printing information about the upload/download progress\n"
     ]
    }
   ],
   "source": [
    "!KAGGLE_USERNAME=residentmario KAGGLE_KEY=01626f04ad79bf758eb6b106c221d26b kaggle competitions download --help"
   ]
  },
  {
   "cell_type": "code",
   "execution_count": 4,
   "metadata": {},
   "outputs": [],
   "source": [
    "!mkdir /spell/datasets/\n",
    "!mkdir /spell/datasets/raw/"
   ]
  },
  {
   "cell_type": "code",
   "execution_count": 5,
   "metadata": {},
   "outputs": [
    {
     "name": "stdout",
     "output_type": "stream",
     "text": [
      "Downloading prostate-cancer-grade-assessment.zip to /spell/datasets\n",
      "\n"
     ]
    },
    {
     "name": "stderr",
     "output_type": "stream",
     "text": [
      "100%|██████████| 193G/193G [55:44<00:00, 61.8MB/s]   \n"
     ]
    }
   ],
   "source": [
    "%%bash\n",
    "KAGGLE_USERNAME=residentmario KAGGLE_KEY=01626f04ad79bf758eb6b106c221d26b \\\n",
    "    kaggle competitions download \\\n",
    "        -c prostate-cancer-grade-assessment \\\n",
    "        -p /spell/datasets/raw/"
   ]
  },
  {
   "cell_type": "code",
   "execution_count": 7,
   "metadata": {},
   "outputs": [
    {
     "name": "stdout",
     "output_type": "stream",
     "text": [
      "193G\t./datasets\n"
     ]
    }
   ],
   "source": [
    "!du -h | grep ./datasets"
   ]
  },
  {
   "cell_type": "markdown",
   "metadata": {},
   "source": [
    "Downloading this data (200 GB) to disk requires approximately 1 hour of time. What surprises me is how long it takes to unzip once downloaded, however. O(1 hour)."
   ]
  },
  {
   "cell_type": "code",
   "execution_count": 18,
   "metadata": {},
   "outputs": [],
   "source": [
    "!mkdir /mnt/prostate-cancer-grade-assessment"
   ]
  },
  {
   "cell_type": "code",
   "execution_count": 19,
   "metadata": {},
   "outputs": [],
   "source": [
    "!unzip -q /spell/datasets/prostate-cancer-grade-assessment.zip -d /mnt/prostate-cancer-grade-assessment/"
   ]
  }
 ],
 "metadata": {
  "kernelspec": {
   "display_name": "Python 3",
   "language": "python",
   "name": "python3"
  },
  "language_info": {
   "codemirror_mode": {
    "name": "ipython",
    "version": 3
   },
   "file_extension": ".py",
   "mimetype": "text/x-python",
   "name": "python",
   "nbconvert_exporter": "python",
   "pygments_lexer": "ipython3",
   "version": "3.7.9"
  }
 },
 "nbformat": 4,
 "nbformat_minor": 4
}
